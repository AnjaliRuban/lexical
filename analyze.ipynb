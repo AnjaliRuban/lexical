{
 "cells": [
  {
   "cell_type": "code",
   "execution_count": 1,
   "metadata": {},
   "outputs": [
    {
     "name": "stdout",
     "output_type": "stream",
     "text": [
      "[<StreamHandler stdout (INFO)>]\n"
     ]
    }
   ],
   "source": [
    "import os, re, random, math, json, pdb\n",
    "from main import np, torch, Vocab, Mutex, RecordLoss, encode, encode_io, collate, eval_format, get_fig2_exp, NoamLR, SoftAlign\n",
    "from nltk.translate.bleu_score import corpus_bleu\n",
    "import matplotlib.pyplot as plt\n",
    "import pandas as pd\n",
    "from collections import Counter, namedtuple\n",
    "from sklearn.manifold import TSNE\n",
    "from sklearn.decomposition import TruncatedSVD\n",
    "import matplotlib.cm as cm\n",
    "from uncertainties import ufloat\n",
    "from scipy import stats\n",
    "import seaborn as sns"
   ]
  },
  {
   "cell_type": "code",
   "execution_count": 2,
   "metadata": {},
   "outputs": [],
   "source": [
    "def mean_std(x):\n",
    "    return ufloat(np.mean(x),np.std(x))\n",
    "def my_mean(x):\n",
    "    return(str(round(np.mean(x),2)))\n",
    "def sort_by(list1, list2):\n",
    "    return [x for _,x in sorted(zip(list2,list1))]"
   ]
  },
  {
   "cell_type": "code",
   "execution_count": 3,
   "metadata": {},
   "outputs": [],
   "source": [
    "ROOT_FOLDER=os.getcwd()"
   ]
  },
  {
   "cell_type": "code",
   "execution_count": 4,
   "metadata": {},
   "outputs": [
    {
     "data": {
      "text/plain": [
       "'/home/gridsan/eakyurek/git/mutex'"
      ]
     },
     "execution_count": 4,
     "metadata": {},
     "output_type": "execute_result"
    }
   ],
   "source": [
    "ROOT_FOLDER"
   ]
  },
  {
   "cell_type": "code",
   "execution_count": 5,
   "metadata": {},
   "outputs": [],
   "source": [
    "plt.rcParams['figure.dpi'] = 150\n",
    "plt.rcParams.update({\"text.usetex\": False,\"font.family\": \"sans-serif\"})\n",
    "plt.rcParams['figure.facecolor'] = 'white'"
   ]
  },
  {
   "cell_type": "code",
   "execution_count": 6,
   "metadata": {},
   "outputs": [],
   "source": [
    "MetaInfo = namedtuple('MetaInfo','data, vocab_x, vocab_y, references')\n",
    "ExpInfo = namedtuple('ExpInfo','configs results')"
   ]
  },
  {
   "cell_type": "code",
   "execution_count": 7,
   "metadata": {},
   "outputs": [],
   "source": [
    "def read_logs_geca(log_file, datainfo=None, read_category=False, read_references=False):\n",
    "    ext = re.compile(\"train/\\\\d+/eval_test/(\\\\d+)/(.*?)\\s(.*?)$\")\n",
    "    with open(log_file,'r') as f:\n",
    "        log_lines = f.readlines()\n",
    "    if read_category and (datainfo is not None):\n",
    "        inps = dict((\" \".join(datainfo.vocab_x.decode(inp[1:-1])),datainfo.data['gen_cats'][i])  for (i,(inp,out)) in enumerate(datainfo.data['gen']))\n",
    "    expinfo = {}\n",
    "    results = []\n",
    "\n",
    "    for l in log_lines:\n",
    "        l = l.strip()\n",
    "        if \"# --\" in l:\n",
    "            option = l.split(\"# --\")[-1]\n",
    "            if \"=\" in option:\n",
    "                k,v = option.split(\"=\")\n",
    "                expinfo[k] = v\n",
    "            else:\n",
    "                if option.startswith('no'):\n",
    "                    expinfo[option[2:]] = False\n",
    "                else:\n",
    "                    expinfo[option] = True\n",
    "        else:\n",
    "            match = ext.search(l)\n",
    "            if match is not None:\n",
    "                idx, info, value = match.groups(0)\n",
    "                idx = int(idx) + 1\n",
    "                if int(idx) > len(results):\n",
    "                    results.append({})\n",
    "                val = value.split(\" \")\n",
    "                if info == \"corr\":\n",
    "                    info = \"label\"\n",
    "                    val  = val[0] == \"1\"\n",
    "                results[int(idx)-1][info] = val\n",
    "                if info == \"input\" and datainfo is not None:\n",
    "                    if read_category:\n",
    "                        results[int(idx)-1][\"category\"] = inps[\" \".join(val)]\n",
    "                    if read_references:\n",
    "                        results[int(idx)-1][\"references\"] = datainfo.references['<s> '+ \" \".join(val) + ' </s>']\n",
    "                    if \"rare_words\" in datainfo.data:\n",
    "                        results[int(idx)-1][\"rare\"] = any(w in val for w in datainfo.data[\"rare_words\"])\n",
    "                        \n",
    "    if \"aligner\" in expinfo and expinfo[\"aligner\"] not in (\"\",\"uniform\",\"random\"):\n",
    "        with open(expinfo[\"aligner\"].split(\"//\")[-1],\"r\") as f:\n",
    "            expinfo[\"alignment\"] = json.load(f)\n",
    "\n",
    "    if len(results) == 0:\n",
    "        return None\n",
    "    return ExpInfo(configs=expinfo,results=results)"
   ]
  },
  {
   "cell_type": "code",
   "execution_count": 8,
   "metadata": {},
   "outputs": [],
   "source": [
    "def read_logs(log_file, datainfo=None, read_category=False, read_references=False):\n",
    "    ext = re.compile(\"test evaluation \\(greedy\\)/(\\\\d+)/(.*?)\\s(.*?)$\")\n",
    "    with open(log_file,'r') as f:\n",
    "        log_lines = f.readlines()\n",
    "    if read_category and (datainfo is not None):\n",
    "        inps = dict((\" \".join(datainfo.vocab_x.decode(inp[1:-1])),datainfo.data['gen_cats'][i])  for (i,(inp,out)) in enumerate(datainfo.data['gen']))\n",
    "    expinfo = {}\n",
    "    results = []\n",
    "\n",
    "    for l in log_lines:\n",
    "        l = l.strip()\n",
    "        if \"# --\" in l:\n",
    "            option = l.split(\"# --\")[-1]\n",
    "            if \"=\" in option:\n",
    "                k,v = option.split(\"=\")\n",
    "                expinfo[k] = v\n",
    "            else:\n",
    "                if option.startswith('no'):\n",
    "                    expinfo[option[2:]] = False\n",
    "                else:\n",
    "                    expinfo[option] = True\n",
    "        else:\n",
    "            match = ext.search(l)\n",
    "            if match is not None:\n",
    "                idx, info, value = match.groups(0)\n",
    "                if int(idx) > len(results):\n",
    "                    results.append({})\n",
    "                val = eval(value)\n",
    "                results[int(idx)-1][info] = val\n",
    "                if info == \"input\" and datainfo is not None:\n",
    "                    if read_category:\n",
    "                        results[int(idx)-1][\"category\"] = inps[\" \".join(val)]\n",
    "                    if read_references:\n",
    "                        results[int(idx)-1][\"references\"] = datainfo.references['<s> '+ \" \".join(val) + ' </s>']\n",
    "                    if \"rare_words\" in datainfo.data:\n",
    "                        results[int(idx)-1][\"rare\"] = any(w in val for w in datainfo.data[\"rare_words\"])\n",
    "                        \n",
    "    \n",
    "    if \"seed\" in  expinfo and expinfo[\"seed\"] == '0' and  \"aligner\" in expinfo and expinfo[\"aligner\"] not in (\"\",\"uniform\",\"random\"):\n",
    "        with open(expinfo[\"aligner\"].split(\"//\")[-1],\"r\") as f:\n",
    "            expinfo[\"alignment\"] = json.load(f)\n",
    "\n",
    "    if len(results) == 0:\n",
    "        return None\n",
    "    return ExpInfo(configs=expinfo,results=results)"
   ]
  },
  {
   "cell_type": "code",
   "execution_count": 9,
   "metadata": {},
   "outputs": [],
   "source": [
    "def read_from_protogen_logs(log_file, datainfo=None, read_category=False, read_references=False):\n",
    "    assert datainfo is not None and read_category == False and read_references == False\n",
    "    with open(log_file,'r') as f:\n",
    "        log_lines = f.readlines()\n",
    "    inps = [\" \".join(datainfo.vocab_x.decode(inp)) for (i,(inp,out)) in enumerate(datainfo.data['test'])]\n",
    "    inps_nospace = [\"\".join(datainfo.vocab_x.decode(inp)) for (i,(inp,out)) in enumerate(datainfo.data['test'])]\n",
    "    expinfo = {}\n",
    "    results = []\n",
    "    started = False\n",
    "    idx = 0\n",
    "    for l in log_lines:\n",
    "        l = l.strip()\n",
    "        if not started and l.startswith(\"TEST EVALS\"):\n",
    "            started = True\n",
    "        elif l.startswith(\"VAL EVALS\"):\n",
    "            started= False\n",
    "        elif started:\n",
    "            if l.startswith(\"INPUT:\"):\n",
    "                idx += 1\n",
    "                results.append({})\n",
    "                _, inp, label = l.split(\" \")\n",
    "                label = True if label == \"true\" else False\n",
    "                results[idx-1]['label'] = label\n",
    "#                 pdb.set_trace()\n",
    "                inp=inp.replace(\"🎬\",\"<s>\").replace(\"🏁\",\"</s>\")\n",
    "                results[idx-1]['input'] = inps[inps_nospace.index(inp)]            \n",
    "            elif l.startswith(\"REF:\"):\n",
    "                results[idx-1]['gold'] = l.split(\"REF: \")[-1].split(\" \")\n",
    "            elif l.startswith(\"PRED:\"):\n",
    "                results[idx-1]['pred'] = l.split(\"PRED: \")[-1].split(\" \")\n",
    "    if len(results) == 0:\n",
    "        return None\n",
    "    return ExpInfo(configs=expinfo,results=results)"
   ]
  },
  {
   "cell_type": "markdown",
   "metadata": {},
   "source": [
    "## SCAN"
   ]
  },
  {
   "cell_type": "code",
   "execution_count": 10,
   "metadata": {},
   "outputs": [],
   "source": [
    "def read_scan(scan_split=\"around_right\", seed=0):\n",
    "    random.seed(seed)\n",
    "    np.random.seed(seed)\n",
    "    torch.manual_seed(seed)\n",
    "    vocab_x = Vocab()\n",
    "    vocab_y = Vocab()\n",
    "    references = None\n",
    "    data = {}\n",
    "    max_len_x, max_len_y = 0, 0\n",
    "    reg = re.compile('^IN\\:\\s(.*?)\\sOUT\\: (.*?)$')\n",
    "    if scan_split == \"around_right\":\n",
    "        scan_file = ROOT_FOLDER + \"/SCAN/template_split/tasks_{}_template_around_right.txt\"\n",
    "    else:\n",
    "        scan_file = ROOT_FOLDER + \"/SCAN/add_prim_split/tasks_{}_addprim_jump.txt\"\n",
    "    for split in (\"train\", \"test\"):\n",
    "        split_data = []\n",
    "        for l in open(scan_file.format(split),\"r\").readlines():\n",
    "            m = reg.match(l)\n",
    "            inp, out = m.groups(1)\n",
    "            inp, out = (inp.split(\" \"), out.split(\" \"))\n",
    "            max_len_x = max(len(inp),max_len_x)\n",
    "            max_len_y = max(len(out),max_len_y)\n",
    "            for t in inp:\n",
    "                vocab_x.add(t)\n",
    "            for t in out:\n",
    "                vocab_y.add(t)\n",
    "            split_data.append(encode_io((inp,out),vocab_x,vocab_y))\n",
    "        data[split] = split_data\n",
    "\n",
    "    val_size = math.floor(len(data[\"train\"])*0.01)\n",
    "    train_size = len(data[\"train\"])-val_size\n",
    "    train_items, val_items = torch.utils.data.random_split(data[\"train\"],[train_size, val_size])\n",
    "    test_items = data[\"test\"]\n",
    "    max_len_x+=1\n",
    "    max_len_y+=1\n",
    "    print(\"vocab_x len: \", len(vocab_x))\n",
    "    print(\"vocab_y len: \", len(vocab_y))\n",
    "    print(\"split lengts: \", [(k,len(v)) for (k,v) in data.items()])\n",
    "    return MetaInfo(data=data, vocab_x=vocab_x,vocab_y=vocab_y, references=references)"
   ]
  },
  {
   "cell_type": "code",
   "execution_count": 11,
   "metadata": {},
   "outputs": [
    {
     "name": "stdout",
     "output_type": "stream",
     "text": [
      "vocab_x len:  18\n",
      "vocab_y len:  11\n",
      "split lengts:  [('train', 15225), ('test', 4476)]\n"
     ]
    }
   ],
   "source": [
    "scaninfo = read_scan(scan_split=\"around_right\", seed=0)"
   ]
  },
  {
   "cell_type": "code",
   "execution_count": 12,
   "metadata": {},
   "outputs": [],
   "source": [
    "#scan_expinfo = read_logs(f\"{ROOT_FOLDER}/exp/SCAN/0.5aligner_jump_SCAN_nbatch_128_lr_1.0_warmup_4000_max_8000/eval.0.out\")\n",
    "scan_expinfo = read_logs(f\"{ROOT_FOLDER}/exp/SCAN/jump_simple/eval.0.out\")"
   ]
  },
  {
   "cell_type": "code",
   "execution_count": 13,
   "metadata": {},
   "outputs": [],
   "source": [
    "scan_geca_expinfo = read_from_protogen_logs(\"/home/gridsan/eakyurek/git/protogen/checkpoints_scan_geca/SCANDataSet/logs/2proto.vae.false.around_right.seed.0.cond.log\", datainfo=scaninfo)"
   ]
  },
  {
   "cell_type": "markdown",
   "metadata": {},
   "source": [
    "## COLORS"
   ]
  },
  {
   "cell_type": "code",
   "execution_count": 14,
   "metadata": {},
   "outputs": [],
   "source": [
    "def read_colors(full_data=True, seed=0):\n",
    "    random.seed(seed)\n",
    "    np.random.seed(seed)\n",
    "    torch.manual_seed(seed)\n",
    "    vocab_x = Vocab()\n",
    "    vocab_y = Vocab()\n",
    "    references = None\n",
    "    #input_symbols_list   = set(['red', 'yellow', 'green', 'blue', 'purple', 'pink', 'around', 'thrice', 'after'])\n",
    "    #state = random.getstate()\n",
    "    # random.seed(0)\n",
    "    input_symbols_list  = set(['dax', 'lug', 'wif', 'zup', 'fep', 'blicket', 'kiki', 'tufa', 'gazzer'])\n",
    "    output_symbols_list = set(['RED', 'YELLOW', 'GREEN', 'BLUE', 'PURPLE', 'PINK'])\n",
    "    study, test = get_fig2_exp(input_symbols_list, output_symbols_list)\n",
    "    #random.setstate(state)\n",
    "\n",
    "    if full_data:\n",
    "        for sym in input_symbols_list:\n",
    "            vocab_x.add(sym)\n",
    "        for sym in output_symbols_list:\n",
    "            vocab_y.add(sym)\n",
    "        max_len_x = 7\n",
    "        max_len_y = 9\n",
    "    else:\n",
    "        test, study  = study[3:4], study[0:3]\n",
    "        for (x,y) in test+study:\n",
    "            for sym in x:\n",
    "                vocab_x.add(sym)\n",
    "            for sym in y:\n",
    "                vocab_y.add(sym)\n",
    "        max_len_x = 2\n",
    "        max_len_y = 2\n",
    "\n",
    "    data = {}\n",
    "    train_items, test_items = encode(study, vocab_x, vocab_y), encode(test,vocab_x, vocab_y)\n",
    "    data['train'] = train_items\n",
    "    data['test'] = test_items\n",
    "    val_items = test_items #TODO: create a val set\n",
    "    return MetaInfo(data=data, vocab_x=vocab_x,vocab_y=vocab_y, references=references)"
   ]
  },
  {
   "cell_type": "code",
   "execution_count": 15,
   "metadata": {},
   "outputs": [],
   "source": [
    "colorsinfo = read_colors()"
   ]
  },
  {
   "cell_type": "code",
   "execution_count": 16,
   "metadata": {},
   "outputs": [
    {
     "data": {
      "text/plain": [
       "MetaInfo(data={'train': [([1, 8, 2], [1, 6, 2]), ([1, 13, 2], [1, 5, 2]), ([1, 12, 2], [1, 9, 2]), ([1, 7, 2], [1, 10, 2]), ([1, 13, 10, 2], [1, 5, 5, 5, 2]), ([1, 8, 10, 2], [1, 6, 6, 6, 2]), ([1, 13, 9, 12, 2], [1, 5, 9, 5, 2]), ([1, 12, 9, 8, 2], [1, 9, 6, 9, 2]), ([1, 13, 11, 12, 2], [1, 9, 5, 2]), ([1, 8, 11, 13, 2], [1, 5, 6, 2]), ([1, 13, 10, 11, 12, 2], [1, 9, 5, 5, 5, 2]), ([1, 12, 11, 8, 9, 13, 2], [1, 6, 5, 6, 9, 2]), ([1, 13, 11, 12, 10, 2], [1, 9, 9, 9, 5, 2]), ([1, 12, 9, 8, 11, 13, 2], [1, 5, 9, 6, 9, 2])], 'test': [([1, 7, 10, 2], [1, 10, 10, 10, 2]), ([1, 7, 9, 13, 2], [1, 10, 5, 10, 2]), ([1, 8, 9, 7, 2], [1, 6, 10, 6, 2]), ([1, 7, 11, 8, 2], [1, 6, 10, 2]), ([1, 12, 11, 7, 2], [1, 10, 9, 2]), ([1, 7, 10, 11, 13, 2], [1, 5, 10, 10, 10, 2]), ([1, 12, 11, 7, 10, 2], [1, 10, 10, 10, 9, 2]), ([1, 13, 11, 12, 9, 7, 2], [1, 9, 10, 9, 5, 2]), ([1, 7, 9, 12, 11, 8, 10, 2], [1, 6, 6, 6, 10, 9, 10, 2]), ([1, 7, 9, 7, 11, 7, 10, 2], [1, 10, 10, 10, 10, 10, 10, 2])]}, vocab_x=<src.vocab.Vocab object at 0x1489a9ecdac8>, vocab_y=<src.vocab.Vocab object at 0x1489a9ecdb38>, references=None)"
      ]
     },
     "execution_count": 16,
     "metadata": {},
     "output_type": "execute_result"
    }
   ],
   "source": [
    "colorsinfo"
   ]
  },
  {
   "cell_type": "code",
   "execution_count": 17,
   "metadata": {},
   "outputs": [],
   "source": [
    "color_expinfo = read_logs(f\"{ROOT_FOLDER}/exp/COLOR/simple/eval.0.out\")"
   ]
  },
  {
   "cell_type": "markdown",
   "metadata": {},
   "source": [
    "## COGS"
   ]
  },
  {
   "cell_type": "code",
   "execution_count": 18,
   "metadata": {},
   "outputs": [],
   "source": [
    "def read_cogs(seed=0):\n",
    "    random.seed(seed)\n",
    "    np.random.seed(seed)\n",
    "    torch.manual_seed(seed)\n",
    "    vocab_x = Vocab()\n",
    "    vocab_y = Vocab()\n",
    "    references = None\n",
    "    data = {}\n",
    "    max_len_x, max_len_y = 0, 0\n",
    "    count_x, count_y = Counter(), Counter()\n",
    "    for split in (\"train\", \"dev\", \"test\", \"gen\"):\n",
    "        split_data = []\n",
    "        split_cats = []\n",
    "        for l in open(f\"{ROOT_FOLDER}/COGS/cogs/{split}.tsv\",\"r\").readlines():\n",
    "            text, sparse, category = l.split(\"\\t\")\n",
    "            text, sparse    = (text.split(\" \"), sparse.split(\" \"))\n",
    "            max_len_x = max(len(text),max_len_x)\n",
    "            max_len_y = max(len(sparse),max_len_y)\n",
    "            for t in text:\n",
    "                vocab_x.add(t)\n",
    "                if split == \"train\":\n",
    "                    count_x[t] += 1\n",
    "                vocab_y.add(t)\n",
    "            for t in sparse:\n",
    "                vocab_y.add(t)\n",
    "                vocab_x.add(t)\n",
    "                if split == \"train\":\n",
    "                    count_y[t] += 1\n",
    "            split_cats.append(category.strip())\n",
    "            split_data.append(encode_io((text,sparse),vocab_x,vocab_y))\n",
    "        data[split] = split_data\n",
    "        data[split + '_cats'] = split_cats\n",
    "    max_len_x+=1\n",
    "    max_len_y+=1\n",
    "    data['rare_words'] = [x for x, count in count_x.items() if count == 1]\n",
    "\n",
    "    print(\"vocab_x len: \", len(vocab_x))\n",
    "    print(\"vocab_y len: \", len(vocab_y))\n",
    "    print(\"split lengts: \", [(k,len(v)) for (k,v) in data.items()])\n",
    "    return MetaInfo(data=data, vocab_x=vocab_x,vocab_y=vocab_y, references=references)"
   ]
  },
  {
   "cell_type": "code",
   "execution_count": 19,
   "metadata": {},
   "outputs": [
    {
     "name": "stdout",
     "output_type": "stream",
     "text": [
      "vocab_x len:  876\n",
      "vocab_y len:  876\n",
      "split lengts:  [('train', 24155), ('train_cats', 24155), ('dev', 3000), ('dev_cats', 3000), ('test', 3000), ('test_cats', 3000), ('gen', 21000), ('gen_cats', 21000), ('rare_words', 85)]\n"
     ]
    }
   ],
   "source": [
    "cogsinfo = read_cogs()"
   ]
  },
  {
   "cell_type": "code",
   "execution_count": 20,
   "metadata": {},
   "outputs": [
    {
     "data": {
      "text/plain": [
       "21000"
      ]
     },
     "execution_count": 20,
     "metadata": {},
     "output_type": "execute_result"
    }
   ],
   "source": [
    "len(cogsinfo.data['gen'])"
   ]
  },
  {
   "cell_type": "code",
   "execution_count": 21,
   "metadata": {},
   "outputs": [],
   "source": [
    "#cogs_expinfo = read_logs(f\"{ROOT_FOLDER}/exp/COGS/aligner_COGS_lr_1.0_warmup_4000_max_8000/eval.1.out\", datainfo=cogsinfo, read_category=True)\n",
    "cogs_expinfo = read_logs(f\"{ROOT_FOLDER}/exp/COGS/simple/eval.1.out\", datainfo=cogsinfo, read_category=True)"
   ]
  },
  {
   "cell_type": "code",
   "execution_count": 22,
   "metadata": {
    "scrolled": true
   },
   "outputs": [
    {
     "data": {
      "text/plain": [
       "{'label': False,\n",
       " 'tp': 217,\n",
       " 'fp': 5,\n",
       " 'fn': 52,\n",
       " 'input': ['Camila',\n",
       "  'wished',\n",
       "  'that',\n",
       "  'Emma',\n",
       "  'noticed',\n",
       "  'that',\n",
       "  'a',\n",
       "  'butterfly',\n",
       "  'admired',\n",
       "  'that',\n",
       "  'the',\n",
       "  'professor',\n",
       "  'believed',\n",
       "  'that',\n",
       "  'Mia',\n",
       "  'liked',\n",
       "  'that',\n",
       "  'Liam',\n",
       "  'appreciated',\n",
       "  'that',\n",
       "  'the',\n",
       "  'giraffe',\n",
       "  'liked',\n",
       "  'that',\n",
       "  'William',\n",
       "  'proved',\n",
       "  'that',\n",
       "  'Zoe',\n",
       "  'noticed',\n",
       "  'that',\n",
       "  'the',\n",
       "  'zebra',\n",
       "  'thought',\n",
       "  'that',\n",
       "  'Leo',\n",
       "  'liked',\n",
       "  'that',\n",
       "  'Ava',\n",
       "  'confessed',\n",
       "  'that',\n",
       "  'the',\n",
       "  'plate',\n",
       "  'burned',\n",
       "  '.'],\n",
       " 'category': 'cp_recursion',\n",
       " 'rare': False,\n",
       " 'gold': ['*',\n",
       "  'professor',\n",
       "  '(',\n",
       "  'x',\n",
       "  '_',\n",
       "  '11',\n",
       "  ')',\n",
       "  ';',\n",
       "  '*',\n",
       "  'giraffe',\n",
       "  '(',\n",
       "  'x',\n",
       "  '_',\n",
       "  '21',\n",
       "  ')',\n",
       "  ';',\n",
       "  '*',\n",
       "  'zebra',\n",
       "  '(',\n",
       "  'x',\n",
       "  '_',\n",
       "  '31',\n",
       "  ')',\n",
       "  ';',\n",
       "  '*',\n",
       "  'plate',\n",
       "  '(',\n",
       "  'x',\n",
       "  '_',\n",
       "  '41',\n",
       "  ')',\n",
       "  ';',\n",
       "  'wish',\n",
       "  '.',\n",
       "  'agent',\n",
       "  '(',\n",
       "  'x',\n",
       "  '_',\n",
       "  '1',\n",
       "  ',',\n",
       "  'Camila',\n",
       "  ')',\n",
       "  'AND',\n",
       "  'wish',\n",
       "  '.',\n",
       "  'ccomp',\n",
       "  '(',\n",
       "  'x',\n",
       "  '_',\n",
       "  '1',\n",
       "  ',',\n",
       "  'x',\n",
       "  '_',\n",
       "  '4',\n",
       "  ')',\n",
       "  'AND',\n",
       "  'notice',\n",
       "  '.',\n",
       "  'agent',\n",
       "  '(',\n",
       "  'x',\n",
       "  '_',\n",
       "  '4',\n",
       "  ',',\n",
       "  'Emma',\n",
       "  ')',\n",
       "  'AND',\n",
       "  'notice',\n",
       "  '.',\n",
       "  'ccomp',\n",
       "  '(',\n",
       "  'x',\n",
       "  '_',\n",
       "  '4',\n",
       "  ',',\n",
       "  'x',\n",
       "  '_',\n",
       "  '8',\n",
       "  ')',\n",
       "  'AND',\n",
       "  'butterfly',\n",
       "  '(',\n",
       "  'x',\n",
       "  '_',\n",
       "  '7',\n",
       "  ')',\n",
       "  'AND',\n",
       "  'admire',\n",
       "  '.',\n",
       "  'agent',\n",
       "  '(',\n",
       "  'x',\n",
       "  '_',\n",
       "  '8',\n",
       "  ',',\n",
       "  'x',\n",
       "  '_',\n",
       "  '7',\n",
       "  ')',\n",
       "  'AND',\n",
       "  'admire',\n",
       "  '.',\n",
       "  'ccomp',\n",
       "  '(',\n",
       "  'x',\n",
       "  '_',\n",
       "  '8',\n",
       "  ',',\n",
       "  'x',\n",
       "  '_',\n",
       "  '12',\n",
       "  ')',\n",
       "  'AND',\n",
       "  'believe',\n",
       "  '.',\n",
       "  'agent',\n",
       "  '(',\n",
       "  'x',\n",
       "  '_',\n",
       "  '12',\n",
       "  ',',\n",
       "  'x',\n",
       "  '_',\n",
       "  '11',\n",
       "  ')',\n",
       "  'AND',\n",
       "  'believe',\n",
       "  '.',\n",
       "  'ccomp',\n",
       "  '(',\n",
       "  'x',\n",
       "  '_',\n",
       "  '12',\n",
       "  ',',\n",
       "  'x',\n",
       "  '_',\n",
       "  '15',\n",
       "  ')',\n",
       "  'AND',\n",
       "  'like',\n",
       "  '.',\n",
       "  'agent',\n",
       "  '(',\n",
       "  'x',\n",
       "  '_',\n",
       "  '15',\n",
       "  ',',\n",
       "  'Mia',\n",
       "  ')',\n",
       "  'AND',\n",
       "  'like',\n",
       "  '.',\n",
       "  'ccomp',\n",
       "  '(',\n",
       "  'x',\n",
       "  '_',\n",
       "  '15',\n",
       "  ',',\n",
       "  'x',\n",
       "  '_',\n",
       "  '18',\n",
       "  ')',\n",
       "  'AND',\n",
       "  'appreciate',\n",
       "  '.',\n",
       "  'agent',\n",
       "  '(',\n",
       "  'x',\n",
       "  '_',\n",
       "  '18',\n",
       "  ',',\n",
       "  'Liam',\n",
       "  ')',\n",
       "  'AND',\n",
       "  'appreciate',\n",
       "  '.',\n",
       "  'ccomp',\n",
       "  '(',\n",
       "  'x',\n",
       "  '_',\n",
       "  '18',\n",
       "  ',',\n",
       "  'x',\n",
       "  '_',\n",
       "  '22',\n",
       "  ')',\n",
       "  'AND',\n",
       "  'like',\n",
       "  '.',\n",
       "  'agent',\n",
       "  '(',\n",
       "  'x',\n",
       "  '_',\n",
       "  '22',\n",
       "  ',',\n",
       "  'x',\n",
       "  '_',\n",
       "  '21',\n",
       "  ')',\n",
       "  'AND',\n",
       "  'like',\n",
       "  '.',\n",
       "  'ccomp',\n",
       "  '(',\n",
       "  'x',\n",
       "  '_',\n",
       "  '22',\n",
       "  ',',\n",
       "  'x',\n",
       "  '_',\n",
       "  '25',\n",
       "  ')',\n",
       "  'AND',\n",
       "  'prove',\n",
       "  '.',\n",
       "  'agent',\n",
       "  '(',\n",
       "  'x',\n",
       "  '_',\n",
       "  '25',\n",
       "  ',',\n",
       "  'William',\n",
       "  ')',\n",
       "  'AND',\n",
       "  'prove',\n",
       "  '.',\n",
       "  'ccomp',\n",
       "  '(',\n",
       "  'x',\n",
       "  '_',\n",
       "  '25',\n",
       "  ',',\n",
       "  'x',\n",
       "  '_',\n",
       "  '28',\n",
       "  ')',\n",
       "  'AND',\n",
       "  'notice',\n",
       "  '.',\n",
       "  'agent',\n",
       "  '(',\n",
       "  'x',\n",
       "  '_',\n",
       "  '28',\n",
       "  ',',\n",
       "  'Zoe',\n",
       "  ')',\n",
       "  'AND',\n",
       "  'notice',\n",
       "  '.',\n",
       "  'ccomp',\n",
       "  '(',\n",
       "  'x',\n",
       "  '_',\n",
       "  '28',\n",
       "  ',',\n",
       "  'x',\n",
       "  '_',\n",
       "  '32',\n",
       "  ')',\n",
       "  'AND',\n",
       "  'think',\n",
       "  '.',\n",
       "  'agent',\n",
       "  '(',\n",
       "  'x',\n",
       "  '_',\n",
       "  '32',\n",
       "  ',',\n",
       "  'x',\n",
       "  '_',\n",
       "  '31',\n",
       "  ')',\n",
       "  'AND',\n",
       "  'think',\n",
       "  '.',\n",
       "  'ccomp',\n",
       "  '(',\n",
       "  'x',\n",
       "  '_',\n",
       "  '32',\n",
       "  ',',\n",
       "  'x',\n",
       "  '_',\n",
       "  '35',\n",
       "  ')',\n",
       "  'AND',\n",
       "  'like',\n",
       "  '.',\n",
       "  'agent',\n",
       "  '(',\n",
       "  'x',\n",
       "  '_',\n",
       "  '35',\n",
       "  ',',\n",
       "  'Leo',\n",
       "  ')',\n",
       "  'AND',\n",
       "  'like',\n",
       "  '.',\n",
       "  'ccomp',\n",
       "  '(',\n",
       "  'x',\n",
       "  '_',\n",
       "  '35',\n",
       "  ',',\n",
       "  'x',\n",
       "  '_',\n",
       "  '38',\n",
       "  ')',\n",
       "  'AND',\n",
       "  'confess',\n",
       "  '.',\n",
       "  'agent',\n",
       "  '(',\n",
       "  'x',\n",
       "  '_',\n",
       "  '38',\n",
       "  ',',\n",
       "  'Ava',\n",
       "  ')',\n",
       "  'AND',\n",
       "  'confess',\n",
       "  '.',\n",
       "  'ccomp',\n",
       "  '(',\n",
       "  'x',\n",
       "  '_',\n",
       "  '38',\n",
       "  ',',\n",
       "  'x',\n",
       "  '_',\n",
       "  '42',\n",
       "  ')',\n",
       "  'AND',\n",
       "  'burn',\n",
       "  '.',\n",
       "  'theme',\n",
       "  '(',\n",
       "  'x',\n",
       "  '_',\n",
       "  '42',\n",
       "  ',',\n",
       "  'x',\n",
       "  '_',\n",
       "  '41',\n",
       "  ')'],\n",
       " 'pred': ['*',\n",
       "  'professor',\n",
       "  '(',\n",
       "  'x',\n",
       "  '_',\n",
       "  '11',\n",
       "  ')',\n",
       "  ';',\n",
       "  '*',\n",
       "  'professor',\n",
       "  '(',\n",
       "  'x',\n",
       "  '_',\n",
       "  '11',\n",
       "  ')',\n",
       "  ';',\n",
       "  '*',\n",
       "  'zebra',\n",
       "  '(',\n",
       "  'x',\n",
       "  '_',\n",
       "  '14',\n",
       "  ')',\n",
       "  ';',\n",
       "  'wish',\n",
       "  '.',\n",
       "  'agent',\n",
       "  '(',\n",
       "  'x',\n",
       "  '_',\n",
       "  '1',\n",
       "  ',',\n",
       "  'Camila',\n",
       "  ')',\n",
       "  'AND',\n",
       "  'wish',\n",
       "  '.',\n",
       "  'ccomp',\n",
       "  '(',\n",
       "  'x',\n",
       "  '_',\n",
       "  '1',\n",
       "  ',',\n",
       "  'x',\n",
       "  '_',\n",
       "  '4',\n",
       "  ')',\n",
       "  'AND',\n",
       "  'notice',\n",
       "  '.',\n",
       "  'agent',\n",
       "  '(',\n",
       "  'x',\n",
       "  '_',\n",
       "  '4',\n",
       "  ',',\n",
       "  'Emma',\n",
       "  ')',\n",
       "  'AND',\n",
       "  'notice',\n",
       "  '.',\n",
       "  'ccomp',\n",
       "  '(',\n",
       "  'x',\n",
       "  '_',\n",
       "  '4',\n",
       "  ',',\n",
       "  'x',\n",
       "  '_',\n",
       "  '8',\n",
       "  ')',\n",
       "  'AND',\n",
       "  'butterfly',\n",
       "  '(',\n",
       "  'x',\n",
       "  '_',\n",
       "  '7',\n",
       "  ')',\n",
       "  'AND',\n",
       "  'admire',\n",
       "  '.',\n",
       "  'agent',\n",
       "  '(',\n",
       "  'x',\n",
       "  '_',\n",
       "  '8',\n",
       "  ',',\n",
       "  'x',\n",
       "  '_',\n",
       "  '7',\n",
       "  ')',\n",
       "  'AND',\n",
       "  'admire',\n",
       "  '.',\n",
       "  'ccomp',\n",
       "  '(',\n",
       "  'x',\n",
       "  '_',\n",
       "  '8',\n",
       "  ',',\n",
       "  'x',\n",
       "  '_',\n",
       "  '10',\n",
       "  ')',\n",
       "  'AND',\n",
       "  'believe',\n",
       "  '.',\n",
       "  'agent',\n",
       "  '(',\n",
       "  'x',\n",
       "  '_',\n",
       "  '10',\n",
       "  ',',\n",
       "  'William',\n",
       "  ')',\n",
       "  'AND',\n",
       "  'admire',\n",
       "  '.',\n",
       "  'ccomp',\n",
       "  '(',\n",
       "  'x',\n",
       "  '_',\n",
       "  '8',\n",
       "  ',',\n",
       "  'x',\n",
       "  '_',\n",
       "  '12',\n",
       "  ')',\n",
       "  'AND',\n",
       "  'believe',\n",
       "  '.',\n",
       "  'agent',\n",
       "  '(',\n",
       "  'x',\n",
       "  '_',\n",
       "  '10',\n",
       "  ',',\n",
       "  'William',\n",
       "  ')',\n",
       "  'AND',\n",
       "  'admire',\n",
       "  '.',\n",
       "  'ccomp',\n",
       "  '(',\n",
       "  'x',\n",
       "  '_',\n",
       "  '8',\n",
       "  ',',\n",
       "  'x',\n",
       "  '_',\n",
       "  '12',\n",
       "  ')',\n",
       "  'AND',\n",
       "  'believe',\n",
       "  '.',\n",
       "  'agent',\n",
       "  '(',\n",
       "  'x',\n",
       "  '_',\n",
       "  '10',\n",
       "  ',',\n",
       "  'William',\n",
       "  ')',\n",
       "  'AND',\n",
       "  'admire',\n",
       "  '.',\n",
       "  'ccomp',\n",
       "  '(',\n",
       "  'x',\n",
       "  '_',\n",
       "  '8',\n",
       "  ',',\n",
       "  'x',\n",
       "  '_',\n",
       "  '12',\n",
       "  ')',\n",
       "  'AND',\n",
       "  'believe',\n",
       "  '.',\n",
       "  'agent',\n",
       "  '(',\n",
       "  'x',\n",
       "  '_',\n",
       "  '11',\n",
       "  ',',\n",
       "  'Ava',\n",
       "  ')',\n",
       "  'AND',\n",
       "  'believe',\n",
       "  '.',\n",
       "  'ccomp',\n",
       "  '(',\n",
       "  'x',\n",
       "  '_',\n",
       "  '8',\n",
       "  ',',\n",
       "  'x',\n",
       "  '_',\n",
       "  '12',\n",
       "  ')',\n",
       "  'AND',\n",
       "  'believe',\n",
       "  '.',\n",
       "  'agent',\n",
       "  '(',\n",
       "  'x',\n",
       "  '_',\n",
       "  '11',\n",
       "  ',',\n",
       "  'Ava',\n",
       "  ')',\n",
       "  'AND',\n",
       "  'believe',\n",
       "  '.',\n",
       "  'theme',\n",
       "  '(',\n",
       "  'x',\n",
       "  '_',\n",
       "  '11',\n",
       "  ',',\n",
       "  'Mia',\n",
       "  ')']}"
      ]
     },
     "execution_count": 22,
     "metadata": {},
     "output_type": "execute_result"
    }
   ],
   "source": [
    "cogs_expinfo.results[0]"
   ]
  },
  {
   "cell_type": "markdown",
   "metadata": {},
   "source": [
    "## TRANSLATE"
   ]
  },
  {
   "cell_type": "code",
   "execution_count": 23,
   "metadata": {},
   "outputs": [],
   "source": [
    "def read_translate(seed=0):\n",
    "    random.seed(seed)\n",
    "    np.random.seed(seed)\n",
    "    torch.manual_seed(seed)\n",
    "    vocab_x = Vocab()\n",
    "    vocab_y = Vocab()\n",
    "    references = None\n",
    "    data = {}\n",
    "    max_len_x, max_len_y = 0, 0\n",
    "    count_x, count_y = Counter(), Counter()\n",
    "    count_x_train = Counter()\n",
    "    for split in (\"train\", \"dev\", \"test\"):\n",
    "        split_data = []\n",
    "        translate_file = f\"{ROOT_FOLDER}/TRANSLATE/cmn.txt_{split}_tokenized.tsv\"\n",
    "        for l in open(translate_file,\"r\").readlines():\n",
    "            input, output = l.split(\"\\t\")\n",
    "            inp, out = (input.strip().split(\" \"), output.strip().split(\" \"))\n",
    "            max_len_x = max(len(inp),max_len_x)\n",
    "            max_len_y = max(len(out),max_len_y)\n",
    "            for t in inp:\n",
    "                count_x[t] += 1\n",
    "                if split == \"train\":\n",
    "                    count_x_train[t] += 1\n",
    "            for t in out:\n",
    "                count_y[t] += 1\n",
    "            split_data.append((inp,out))\n",
    "\n",
    "        data[split] = split_data\n",
    "\n",
    "\n",
    "    # pdb.set_trace()\n",
    "    count_x  = count_x.most_common(15000) #threshold to 10k words\n",
    "    count_y  = count_y.most_common(26000) #threshold to 10k words\n",
    "\n",
    "    for (x,_) in count_x:\n",
    "        vocab_x.add(x)\n",
    "    for (y,_) in count_y:\n",
    "        vocab_y.add(y)\n",
    "\n",
    "    edata = {}\n",
    "    references = {}\n",
    "    for (split,split_data) in data.items():\n",
    "        esplit = []\n",
    "        for (inp,out) in split_data:\n",
    "            (einp, eout) = encode_io((inp,out),vocab_x,vocab_y)\n",
    "            esplit.append((einp, eout))\n",
    "            sinp = \" \".join(vocab_x.decode(einp))\n",
    "            if sinp in references:\n",
    "                references[sinp].append(out)\n",
    "            else:\n",
    "                references[sinp] = [out]\n",
    "        edata[split] = esplit\n",
    "    data = edata\n",
    "\n",
    "    data['rare_words'] = [x for x, count in count_x_train.items() if count == 1]\n",
    "\n",
    "    max_len_x+=1\n",
    "    max_len_y+=1\n",
    "    print(\"vocab_x len: \", len(vocab_x))\n",
    "    print(\"vocab_y len: \", len(vocab_y))\n",
    "    print(\"split lengts: \", [(k,len(v)) for (k,v) in data.items()])\n",
    "\n",
    "    train_items  = data[\"train\"]\n",
    "    val_items    = data[\"dev\"]\n",
    "    test_items   = data[\"test\"]\n",
    "    return MetaInfo(data=data, vocab_x=vocab_x,vocab_y=vocab_y, references=references)"
   ]
  },
  {
   "cell_type": "code",
   "execution_count": 24,
   "metadata": {},
   "outputs": [
    {
     "name": "stdout",
     "output_type": "stream",
     "text": [
      "vocab_x len:  7292\n",
      "vocab_y len:  12699\n",
      "split lengts:  [('train', 19222), ('dev', 2402), ('test', 2402), ('rare_words', 2809)]\n"
     ]
    }
   ],
   "source": [
    "translateinfo = read_translate()"
   ]
  },
  {
   "cell_type": "code",
   "execution_count": 25,
   "metadata": {},
   "outputs": [],
   "source": [
    "#translate_expinfo = read_logs(f\"{ROOT_FOLDER}/exp/TRANSLATE/aligner_TRANSLATE_lr_1.0_warmup_4000_max_8000/eval.0.out\", datainfo=translateinfo, read_references=True)\n",
    "translate_expinfo = read_logs(f\"{ROOT_FOLDER}/exp/TRANSLATE/simple/eval.0.out\", datainfo=translateinfo, read_references=True)"
   ]
  },
  {
   "cell_type": "code",
   "execution_count": 26,
   "metadata": {},
   "outputs": [],
   "source": [
    "translate_expinfo.results[0];"
   ]
  },
  {
   "cell_type": "code",
   "execution_count": 27,
   "metadata": {},
   "outputs": [],
   "source": [
    "def get_labels(results, rare=False, category=None):\n",
    "    if not rare:\n",
    "        if category is None:\n",
    "            labels = [res['label'] for res in results]\n",
    "        else:\n",
    "            labels = [res['label'] for res in results if category in res['category']]\n",
    "    else:\n",
    "        labels = [res['label'] for res in results if res['rare']]\n",
    "        \n",
    "    return labels\n",
    "\n",
    "def get_preds_references(results, rare=False):\n",
    "    preds = []\n",
    "    references = []\n",
    "    for res in results:\n",
    "        if rare:\n",
    "            if res['rare']:\n",
    "                preds.append(res['pred'])\n",
    "                references.append(res['references'])\n",
    "        else:\n",
    "            preds.append(res['pred'])\n",
    "            references.append(res['references'])\n",
    "    return (references, preds)\n",
    "\n",
    "def get_accuracy(arr_results, rare=False, category=None):\n",
    "    arr_labels = [get_labels(res, rare=rare, category=category) for res in arr_results]\n",
    "    means = [np.mean(labels) for labels in arr_labels]\n",
    "    return mean_std(means)\n",
    "\n",
    "def sort_inputs(results):\n",
    "    return sorted(results, key=lambda k: k['input'])\n",
    "\n",
    "from scipy import stats\n",
    "\n",
    "def flatten(t):\n",
    "    return [item for sublist in t for item in sublist]\n",
    "\n",
    "def get_t_test(arr_results1, arr_results2, rare=False, category=None):\n",
    "    arr_labels1 = flatten([get_labels(sort_inputs(res), rare=rare, category=category) for res in arr_results1])\n",
    "    arr_labels2 = flatten([get_labels(sort_inputs(res), rare=rare, category=category) for res in arr_results2])\n",
    "    return stats.ttest_rel(np.array(arr_labels1).astype(int), np.array(arr_labels2).astype(int)).pvalue\n",
    "\n",
    "# from IPython.core.debugger import Tracer\n",
    "\n",
    "def get_bleu(arr_results, rare=False):\n",
    "    arr_labels = [get_preds_references(res, rare=rare) for res in arr_results]\n",
    "    bleus = [corpus_bleu(*labels) for labels in arr_labels]\n",
    "    return mean_std(bleus)\n"
   ]
  },
  {
   "cell_type": "code",
   "execution_count": 28,
   "metadata": {},
   "outputs": [
    {
     "name": "stdout",
     "output_type": "stream",
     "text": [
      "vocab_x len:  18\n",
      "vocab_y len:  11\n",
      "split lengts:  [('train', 15225), ('test', 4476)]\n",
      "vocab_x len:  18\n",
      "vocab_y len:  11\n",
      "split lengts:  [('train', 14670), ('test', 7706)]\n"
     ]
    }
   ],
   "source": [
    "around_right_info = read_scan(scan_split=\"around_right\", seed=0)\n",
    "jump_info = read_scan(scan_split=\"jump\", seed=0)"
   ]
  },
  {
   "cell_type": "code",
   "execution_count": 29,
   "metadata": {},
   "outputs": [
    {
     "data": {
      "text/plain": [
       "dict_keys(['train', 'dev', 'test', 'rare_words'])"
      ]
     },
     "execution_count": 29,
     "metadata": {},
     "output_type": "execute_result"
    }
   ],
   "source": [
    "translateinfo.data.keys()"
   ]
  },
  {
   "cell_type": "code",
   "execution_count": 30,
   "metadata": {},
   "outputs": [
    {
     "name": "stdout",
     "output_type": "stream",
     "text": [
      "\\begin{tabular}{lrrrrr}\n",
      "\\toprule\n",
      "{} &  around\\_right &     jump &   COGS &  Colors &  ENG-CHN \\\\\n",
      "\\midrule\n",
      "train &       15225.0 &  14670.0 &  24155 &    14.0 &    19222 \\\\\n",
      "test  &        4476.0 &   7706.0 &  21000 &    10.0 &     2402 \\\\\n",
      "val   &           NaN &      NaN &   3000 &     NaN &     2402 \\\\\n",
      "\\bottomrule\n",
      "\\end{tabular}\n",
      "\n"
     ]
    }
   ],
   "source": [
    "print(pd.DataFrame({\"around_right\": { \"train\": len(around_right_info.data['train']), \"test\": len(around_right_info.data['test'])},\n",
    " \"jump\": {\"train\": len(jump_info.data['train']), \"test\": len(jump_info.data['test'])},\n",
    " \"COGS\": {\"train\": len(cogsinfo.data['train']), \"val\": len(cogsinfo.data['dev']), \"test\":len(cogsinfo.data['gen'])},\n",
    " \"Colors\": {\"train\": len(colorsinfo.data['train']),\"test\":len(colorsinfo.data['test'])},\n",
    " \"ENG-CHN\": {\"train\": len(translateinfo.data['train']), \"val\": len(translateinfo.data['dev']), \"test\":len(translateinfo.data['test'])},\n",
    "}).to_latex())"
   ]
  },
  {
   "cell_type": "code",
   "execution_count": 31,
   "metadata": {},
   "outputs": [
    {
     "data": {
      "text/plain": [
       "0.9948092395535946+/-0"
      ]
     },
     "execution_count": 31,
     "metadata": {},
     "output_type": "execute_result"
    }
   ],
   "source": [
    "get_accuracy([scan_expinfo.results])"
   ]
  },
  {
   "cell_type": "code",
   "execution_count": 32,
   "metadata": {},
   "outputs": [
    {
     "data": {
      "text/plain": [
       "0.18465612153073022+/-0"
      ]
     },
     "execution_count": 32,
     "metadata": {},
     "output_type": "execute_result"
    }
   ],
   "source": [
    "get_bleu([translate_expinfo.results], rare=True)"
   ]
  },
  {
   "cell_type": "markdown",
   "metadata": {},
   "source": [
    "# Main Results"
   ]
  },
  {
   "cell_type": "code",
   "execution_count": 33,
   "metadata": {},
   "outputs": [],
   "source": [
    "exp_home=\"exp/\""
   ]
  },
  {
   "cell_type": "code",
   "execution_count": 34,
   "metadata": {},
   "outputs": [],
   "source": [
    "def read_all_results(exp_folders, exp_name, datainfo=None, rng=range(10), fnameformat = \"eval.{}.out\", read_references=False, read_category=False):\n",
    "    exp_results = {}\n",
    "    for (model_name, folder) in exp_folders.items():\n",
    "        results = []\n",
    "        for i in rng:\n",
    "            if not model_name.startswith(\"geca\"):\n",
    "                exp_file = folder +  f\"eval.{i}.out\"\n",
    "                reader = read_logs\n",
    "            elif model_name == \"geca\":\n",
    "                exp_file = folder + f\"2proto.vae.false.{exp_name}.seed.{i}.cond.log\"\n",
    "                reader = read_from_protogen_logs\n",
    "            elif model_name == \"geca_j\":\n",
    "                exp_file = folder +  f\"eval.{i}.out\"\n",
    "                reader = read_logs_geca\n",
    "                \n",
    "            if os.path.exists(exp_file):\n",
    "                result = reader(exp_file, datainfo=datainfo, read_references=read_references, read_category=read_category)\n",
    "                if result is None:\n",
    "                    print(model_name, f\" seed {i} not complete\")\n",
    "                else:\n",
    "                    results.append(result)\n",
    "            else:\n",
    "                print(model_name, f\" seed {i} is missing\")\n",
    "        exp_results[model_name] = results\n",
    "    return exp_results"
   ]
  },
  {
   "cell_type": "code",
   "execution_count": 35,
   "metadata": {},
   "outputs": [],
   "source": [
    "main_table_scores = {}\n",
    "main_table_significance = {}"
   ]
  },
  {
   "cell_type": "markdown",
   "metadata": {},
   "source": [
    "## SCAN Results"
   ]
  },
  {
   "cell_type": "code",
   "execution_count": 36,
   "metadata": {},
   "outputs": [],
   "source": [
    "scan_home = exp_home + \"SCAN/\"\n",
    "geca_home = \"/home/gridsan/eakyurek/git/protogen/checkpoints_scan_geca/SCANDataSet/logs/\""
   ]
  },
  {
   "cell_type": "markdown",
   "metadata": {},
   "source": [
    "### Around Right"
   ]
  },
  {
   "cell_type": "code",
   "execution_count": 37,
   "metadata": {},
   "outputs": [],
   "source": [
    "def around_right(datainfo=None):\n",
    "    prefix = scan_home + \"around_right_\"\n",
    "    exp_folders = {\"lstm\":scan_home + \"LSTM_around_right_SCAN_nbatch_128_lr_1.0_warmup_4000_max_8000/\",\n",
    "    \"lstmcopy\":scan_home + \"LSTM_around_right_SCAN_nbatch_128_lr_1.0_warmup_4000_max_8000/\",\n",
    "    \"simple\": prefix + \"simple/\",\n",
    "    \"pmi\":prefix + \"pmi/\",\n",
    "    \"intersect\": prefix + \"fast_intersect/\",\n",
    "    \"forward\": scan_home + \"fast_forward_around_right_SCAN_nbatch_128_lr_1.0_warmup_4000_max_8000/\",\n",
    "    \"goodman\":prefix + \"goodman/\",\n",
    "    \"geca\":geca_home,\n",
    "    \"synatt\": f\"{ROOT_FOLDER}/syntactic_attention/around_right_logs/\"}\n",
    "    return read_all_results(exp_folders, \"around_right\", datainfo=datainfo)"
   ]
  },
  {
   "cell_type": "code",
   "execution_count": 38,
   "metadata": {},
   "outputs": [],
   "source": [
    "main_table_scores[\"around_right\"] = {}\n",
    "main_table_significance[\"around_right\"] = {}"
   ]
  },
  {
   "cell_type": "code",
   "execution_count": 39,
   "metadata": {},
   "outputs": [
    {
     "name": "stdout",
     "output_type": "stream",
     "text": [
      "vocab_x len:  18\n",
      "vocab_y len:  11\n",
      "split lengts:  [('train', 15225), ('test', 4476)]\n"
     ]
    }
   ],
   "source": [
    "around_right_results = around_right(datainfo=read_scan(scan_split=\"around_right\", seed=0))"
   ]
  },
  {
   "cell_type": "code",
   "execution_count": 40,
   "metadata": {},
   "outputs": [],
   "source": [
    "for (exp_name, results) in around_right_results.items():\n",
    "    main_table_scores[\"around_right\"][exp_name] = get_accuracy([result.results for result in results])"
   ]
  },
  {
   "cell_type": "code",
   "execution_count": 41,
   "metadata": {},
   "outputs": [
    {
     "data": {
      "text/plain": [
       "{'around_right': {'lstm': 0.08646112600536192+/-0.045231659739827956,\n",
       "  'lstmcopy': 0.08646112600536192+/-0.045231659739827956,\n",
       "  'simple': 0.9493967828418229+/-0.012642238428318108,\n",
       "  'pmi': 0.020352993744414658+/-0.034984405194322846,\n",
       "  'intersect': 0.00020107238605898123+/-0.0004052358611978788,\n",
       "  'forward': 0.00020107238605898123+/-0.0004052358611978788,\n",
       "  'goodman': 0.02064343163538874+/-0.03909743393335053,\n",
       "  'geca': 0.9849865951742626+/-0.019047330258969555,\n",
       "  'synatt': 0.27625111706881145+/-0.2578109680038039}}"
      ]
     },
     "execution_count": 41,
     "metadata": {},
     "output_type": "execute_result"
    }
   ],
   "source": [
    "main_table_scores"
   ]
  },
  {
   "cell_type": "code",
   "execution_count": 42,
   "metadata": {},
   "outputs": [],
   "source": [
    "def update_significance(results, significances, rare=False):\n",
    "    for m1 in results.keys():\n",
    "        significances[m1] = {}\n",
    "        for m2 in results.keys():\n",
    "            if m1 != m2:\n",
    "                results1 = [result.results for result in results[m1]]\n",
    "                results2 = [result.results for result in results[m2]]\n",
    "                significances[m1][m2] = get_t_test(results1, results2,rare=rare)"
   ]
  },
  {
   "cell_type": "code",
   "execution_count": 43,
   "metadata": {},
   "outputs": [],
   "source": [
    "update_significance(around_right_results,main_table_significance[\"around_right\"])"
   ]
  },
  {
   "cell_type": "code",
   "execution_count": 44,
   "metadata": {},
   "outputs": [
    {
     "data": {
      "text/plain": [
       "{'lstm': {'lstmcopy': nan,\n",
       "  'simple': 0.0,\n",
       "  'pmi': 0.0,\n",
       "  'intersect': 0.0,\n",
       "  'forward': 0.0,\n",
       "  'goodman': 0.0,\n",
       "  'geca': 0.0,\n",
       "  'synatt': 0.0},\n",
       " 'lstmcopy': {'lstm': nan,\n",
       "  'simple': 0.0,\n",
       "  'pmi': 0.0,\n",
       "  'intersect': 0.0,\n",
       "  'forward': 0.0,\n",
       "  'goodman': 0.0,\n",
       "  'geca': 0.0,\n",
       "  'synatt': 0.0},\n",
       " 'simple': {'lstm': 0.0,\n",
       "  'lstmcopy': 0.0,\n",
       "  'pmi': 0.0,\n",
       "  'intersect': 0.0,\n",
       "  'forward': 0.0,\n",
       "  'goodman': 0.0,\n",
       "  'geca': 2.279297480028008e-225,\n",
       "  'synatt': 0.0},\n",
       " 'pmi': {'lstm': 0.0,\n",
       "  'lstmcopy': 0.0,\n",
       "  'simple': 0.0,\n",
       "  'intersect': 2.988191268913685e-196,\n",
       "  'forward': 2.988191268913685e-196,\n",
       "  'goodman': 0.7285444606257238,\n",
       "  'geca': 0.0,\n",
       "  'synatt': 0.0},\n",
       " 'intersect': {'lstm': 0.0,\n",
       "  'lstmcopy': 0.0,\n",
       "  'simple': 0.0,\n",
       "  'pmi': 2.988191268913685e-196,\n",
       "  'forward': nan,\n",
       "  'goodman': 3.918865233308645e-199,\n",
       "  'geca': 0.0,\n",
       "  'synatt': 0.0},\n",
       " 'forward': {'lstm': 0.0,\n",
       "  'lstmcopy': 0.0,\n",
       "  'simple': 0.0,\n",
       "  'pmi': 2.988191268913685e-196,\n",
       "  'intersect': nan,\n",
       "  'goodman': 3.918865233308645e-199,\n",
       "  'geca': 0.0,\n",
       "  'synatt': 0.0},\n",
       " 'goodman': {'lstm': 0.0,\n",
       "  'lstmcopy': 0.0,\n",
       "  'simple': 0.0,\n",
       "  'pmi': 0.7285444606257238,\n",
       "  'intersect': 3.918865233308645e-199,\n",
       "  'forward': 3.918865233308645e-199,\n",
       "  'geca': 0.0,\n",
       "  'synatt': 0.0},\n",
       " 'geca': {'lstm': 0.0,\n",
       "  'lstmcopy': 0.0,\n",
       "  'simple': 2.279297480028008e-225,\n",
       "  'pmi': 0.0,\n",
       "  'intersect': 0.0,\n",
       "  'forward': 0.0,\n",
       "  'goodman': 0.0,\n",
       "  'synatt': 0.0},\n",
       " 'synatt': {'lstm': 0.0,\n",
       "  'lstmcopy': 0.0,\n",
       "  'simple': 0.0,\n",
       "  'pmi': 0.0,\n",
       "  'intersect': 0.0,\n",
       "  'forward': 0.0,\n",
       "  'goodman': 0.0,\n",
       "  'geca': 0.0}}"
      ]
     },
     "execution_count": 44,
     "metadata": {},
     "output_type": "execute_result"
    }
   ],
   "source": [
    "main_table_significance[\"around_right\"]"
   ]
  },
  {
   "cell_type": "markdown",
   "metadata": {},
   "source": [
    "### JUMP"
   ]
  },
  {
   "cell_type": "code",
   "execution_count": 45,
   "metadata": {},
   "outputs": [],
   "source": [
    "def jump(datainfo=None):\n",
    "    prefix = scan_home + \"jump_\"\n",
    "    exp_folders = {\"lstm\":scan_home + \"LSTM_jump_SCAN_nbatch_128_lr_1.0_warmup_4000_max_8000/\",\n",
    "    \"lstmcopy\":scan_home + \"LSTM_jump_SCAN_nbatch_128_lr_1.0_warmup_4000_max_8000/\",\n",
    "    \"simple\": prefix + \"simple/\",\n",
    "    \"pmi\":prefix + \"pmi/\",\n",
    "    \"intersect\": prefix + \"fast_intersect/\",\n",
    "    \"forward\": prefix+ \"simple/\",\n",
    "    \"goodman\":prefix + \"goodman/\",\n",
    "    \"geca\":geca_home,\n",
    "    \"synatt\": f\"{ROOT_FOLDER}/syntactic_attention/jump_logs/\"}\n",
    "    return read_all_results(exp_folders, \"jump\", datainfo=datainfo, read_references=False)"
   ]
  },
  {
   "cell_type": "code",
   "execution_count": 46,
   "metadata": {},
   "outputs": [],
   "source": [
    "main_table_significance[\"jump\"] = {}"
   ]
  },
  {
   "cell_type": "code",
   "execution_count": 47,
   "metadata": {},
   "outputs": [
    {
     "name": "stdout",
     "output_type": "stream",
     "text": [
      "vocab_x len:  18\n",
      "vocab_y len:  11\n",
      "split lengts:  [('train', 14670), ('test', 7706)]\n"
     ]
    }
   ],
   "source": [
    "main_table_scores[\"jump\"] = {}\n",
    "jump_results = jump(datainfo=read_scan(scan_split=\"jump\", seed=0))"
   ]
  },
  {
   "cell_type": "code",
   "execution_count": 48,
   "metadata": {},
   "outputs": [],
   "source": [
    "for (exp_name, results) in jump_results.items():\n",
    "#     print(exp_name, \" \", len(results))\n",
    "#     print(np.sum([len(result.results) for result in results]))\n",
    "    main_table_scores[\"jump\"][exp_name] = get_accuracy([result.results for result in results])"
   ]
  },
  {
   "cell_type": "code",
   "execution_count": 49,
   "metadata": {},
   "outputs": [
    {
     "data": {
      "text/plain": [
       "{'lstm': 0.0040877238515442515+/-0.0034491470476186144,\n",
       " 'lstmcopy': 0.0040877238515442515+/-0.0034491470476186144,\n",
       " 'simple': 0.9168569945497016+/-0.17091975971191123,\n",
       " 'pmi': 0.954684661302881+/-0.0816483642264005,\n",
       " 'intersect': 0.7905528159875421+/-0.26787430886295,\n",
       " 'forward': 0.9168569945497016+/-0.17091975971191123,\n",
       " 'goodman': 0.8161302880872048+/-0.28978730899164934,\n",
       " 'geca': 0.9994030625486634+/-0.000993729027722646,\n",
       " 'synatt': 0.5727744614586037+/-0.38042580893911965}"
      ]
     },
     "execution_count": 49,
     "metadata": {},
     "output_type": "execute_result"
    }
   ],
   "source": [
    "main_table_scores['jump']"
   ]
  },
  {
   "cell_type": "code",
   "execution_count": null,
   "metadata": {},
   "outputs": [],
   "source": []
  },
  {
   "cell_type": "code",
   "execution_count": 50,
   "metadata": {},
   "outputs": [],
   "source": [
    "update_significance(jump_results,main_table_significance[\"jump\"])"
   ]
  },
  {
   "cell_type": "code",
   "execution_count": 51,
   "metadata": {},
   "outputs": [
    {
     "data": {
      "text/plain": [
       "{'lstm': {'lstmcopy': nan,\n",
       "  'simple': 0.0,\n",
       "  'pmi': 0.0,\n",
       "  'intersect': 0.0,\n",
       "  'forward': 0.0,\n",
       "  'goodman': 0.0,\n",
       "  'geca': 0.0,\n",
       "  'synatt': 0.0},\n",
       " 'lstmcopy': {'lstm': nan,\n",
       "  'simple': 0.0,\n",
       "  'pmi': 0.0,\n",
       "  'intersect': 0.0,\n",
       "  'forward': 0.0,\n",
       "  'goodman': 0.0,\n",
       "  'geca': 0.0,\n",
       "  'synatt': 0.0},\n",
       " 'simple': {'lstm': 0.0,\n",
       "  'lstmcopy': 0.0,\n",
       "  'pmi': 4.990718693820838e-234,\n",
       "  'intersect': 0.0,\n",
       "  'forward': nan,\n",
       "  'goodman': 0.0,\n",
       "  'geca': 0.0,\n",
       "  'synatt': 0.0},\n",
       " 'pmi': {'lstm': 0.0,\n",
       "  'lstmcopy': 0.0,\n",
       "  'simple': 4.990718693820838e-234,\n",
       "  'intersect': 0.0,\n",
       "  'forward': 4.990718693820838e-234,\n",
       "  'goodman': 0.0,\n",
       "  'geca': 0.0,\n",
       "  'synatt': 0.0},\n",
       " 'intersect': {'lstm': 0.0,\n",
       "  'lstmcopy': 0.0,\n",
       "  'simple': 0.0,\n",
       "  'pmi': 0.0,\n",
       "  'forward': 0.0,\n",
       "  'goodman': 2.0452490805398883e-94,\n",
       "  'geca': 0.0,\n",
       "  'synatt': 0.0},\n",
       " 'forward': {'lstm': 0.0,\n",
       "  'lstmcopy': 0.0,\n",
       "  'simple': nan,\n",
       "  'pmi': 4.990718693820838e-234,\n",
       "  'intersect': 0.0,\n",
       "  'goodman': 0.0,\n",
       "  'geca': 0.0,\n",
       "  'synatt': 0.0},\n",
       " 'goodman': {'lstm': 0.0,\n",
       "  'lstmcopy': 0.0,\n",
       "  'simple': 0.0,\n",
       "  'pmi': 0.0,\n",
       "  'intersect': 2.0452490805398883e-94,\n",
       "  'forward': 0.0,\n",
       "  'geca': 0.0,\n",
       "  'synatt': 0.0},\n",
       " 'geca': {'lstm': 0.0,\n",
       "  'lstmcopy': 0.0,\n",
       "  'simple': 0.0,\n",
       "  'pmi': 0.0,\n",
       "  'intersect': 0.0,\n",
       "  'forward': 0.0,\n",
       "  'goodman': 0.0,\n",
       "  'synatt': 0.0},\n",
       " 'synatt': {'lstm': 0.0,\n",
       "  'lstmcopy': 0.0,\n",
       "  'simple': 0.0,\n",
       "  'pmi': 0.0,\n",
       "  'intersect': 0.0,\n",
       "  'forward': 0.0,\n",
       "  'goodman': 0.0,\n",
       "  'geca': 0.0}}"
      ]
     },
     "execution_count": 51,
     "metadata": {},
     "output_type": "execute_result"
    }
   ],
   "source": [
    "main_table_significance[\"jump\"]"
   ]
  },
  {
   "cell_type": "markdown",
   "metadata": {},
   "source": [
    "### Colors"
   ]
  },
  {
   "cell_type": "code",
   "execution_count": 52,
   "metadata": {},
   "outputs": [],
   "source": [
    "color_home = exp_home + \"COLOR/\""
   ]
  },
  {
   "cell_type": "code",
   "execution_count": 53,
   "metadata": {},
   "outputs": [],
   "source": [
    "def colors():\n",
    "    exp_folders = {\"lstm\":color_home + \"LSTM_nbatch_5_dim_128_lr_0.001/\",\n",
    "                   \"lstmcopy\":color_home + \"LSTM_nbatch_5_dim_128_lr_0.001/\",\n",
    "                   \"simple\":color_home + \"simple/\",\n",
    "                   \"pmi\":color_home + \"pmi/\",\n",
    "                   \"intersect\":color_home + \"fast_intersect/\",\n",
    "                   \"forward\":color_home + \"fast_forward/\",\n",
    "                   \"goodman\":color_home + \"goodman/\",\n",
    "                    \"gecax\": color_home + \"geca_nbatch_14_dim_256_lr_0.001_paug_0.3/\",\n",
    "                   \"synatt\": f\"{ROOT_FOLDER}/syntactic_attention/color_logs/\"}\n",
    "    return read_all_results(exp_folders, \"colors\", rng=range(16))"
   ]
  },
  {
   "cell_type": "code",
   "execution_count": 54,
   "metadata": {},
   "outputs": [],
   "source": [
    "colors_results = colors()\n",
    "colors_results['geca'] = colors_results.pop('gecax')\n",
    "main_table_scores[\"Colors\"] = {}\n",
    "for (exp_name, results) in colors_results.items():\n",
    "    main_table_scores[\"Colors\"][exp_name] = get_accuracy([result.results for result in results])"
   ]
  },
  {
   "cell_type": "code",
   "execution_count": 55,
   "metadata": {},
   "outputs": [
    {
     "data": {
      "text/plain": [
       "{'around_right': {'lstm': 0.08646112600536192+/-0.045231659739827956,\n",
       "  'lstmcopy': 0.08646112600536192+/-0.045231659739827956,\n",
       "  'simple': 0.9493967828418229+/-0.012642238428318108,\n",
       "  'pmi': 0.020352993744414658+/-0.034984405194322846,\n",
       "  'intersect': 0.00020107238605898123+/-0.0004052358611978788,\n",
       "  'forward': 0.00020107238605898123+/-0.0004052358611978788,\n",
       "  'goodman': 0.02064343163538874+/-0.03909743393335053,\n",
       "  'geca': 0.9849865951742626+/-0.019047330258969555,\n",
       "  'synatt': 0.27625111706881145+/-0.2578109680038039},\n",
       " 'jump': {'lstm': 0.0040877238515442515+/-0.0034491470476186144,\n",
       "  'lstmcopy': 0.0040877238515442515+/-0.0034491470476186144,\n",
       "  'simple': 0.9168569945497016+/-0.17091975971191123,\n",
       "  'pmi': 0.954684661302881+/-0.0816483642264005,\n",
       "  'intersect': 0.7905528159875421+/-0.26787430886295,\n",
       "  'forward': 0.9168569945497016+/-0.17091975971191123,\n",
       "  'goodman': 0.8161302880872048+/-0.28978730899164934,\n",
       "  'geca': 0.9994030625486634+/-0.000993729027722646,\n",
       "  'synatt': 0.5727744614586037+/-0.38042580893911965},\n",
       " 'Colors': {'lstm': 0.0+/-0,\n",
       "  'lstmcopy': 0.0+/-0,\n",
       "  'simple': 0.7937500000000001+/-0.024206145913796377,\n",
       "  'pmi': 0.4125+/-0.1899835519196333,\n",
       "  'intersect': 0.7937500000000001+/-0.024206145913796377,\n",
       "  'forward': 0.7937500000000001+/-0.024206145913796377,\n",
       "  'goodman': 0.5125+/-0.21469455046647085,\n",
       "  'synatt': 0.53125+/-0.26860461183680373,\n",
       "  'geca': 0.5+/-0}}"
      ]
     },
     "execution_count": 55,
     "metadata": {},
     "output_type": "execute_result"
    }
   ],
   "source": [
    "main_table_scores"
   ]
  },
  {
   "cell_type": "code",
   "execution_count": 56,
   "metadata": {},
   "outputs": [],
   "source": [
    "main_table_significance[\"Colors\"] = {}\n",
    "update_significance(colors_results,main_table_significance[\"Colors\"])"
   ]
  },
  {
   "cell_type": "code",
   "execution_count": 57,
   "metadata": {},
   "outputs": [
    {
     "data": {
      "text/plain": [
       "{'lstm': {'lstmcopy': nan,\n",
       "  'simple': 2.2097249820656808e-56,\n",
       "  'pmi': 4.2190134185468056e-20,\n",
       "  'intersect': 2.2097249820656808e-56,\n",
       "  'forward': 2.2097249820656808e-56,\n",
       "  'goodman': 1.3714009158038045e-26,\n",
       "  'synatt': 5.962002895383235e-28,\n",
       "  'geca': 1.0387991867036785e-25},\n",
       " 'lstmcopy': {'lstm': nan,\n",
       "  'simple': 2.2097249820656808e-56,\n",
       "  'pmi': 4.2190134185468056e-20,\n",
       "  'intersect': 2.2097249820656808e-56,\n",
       "  'forward': 2.2097249820656808e-56,\n",
       "  'goodman': 1.3714009158038045e-26,\n",
       "  'synatt': 5.962002895383235e-28,\n",
       "  'geca': 1.0387991867036785e-25},\n",
       " 'simple': {'lstm': 2.2097249820656808e-56,\n",
       "  'lstmcopy': 2.2097249820656808e-56,\n",
       "  'pmi': 1.2786842138353946e-17,\n",
       "  'intersect': nan,\n",
       "  'forward': nan,\n",
       "  'goodman': 4.648463972959139e-13,\n",
       "  'synatt': 1.3632382270638345e-11,\n",
       "  'geca': 4.3894975207545494e-13},\n",
       " 'pmi': {'lstm': 4.2190134185468056e-20,\n",
       "  'lstmcopy': 4.2190134185468056e-20,\n",
       "  'simple': 1.2786842138353946e-17,\n",
       "  'intersect': 1.2786842138353946e-17,\n",
       "  'forward': 1.2786842138353946e-17,\n",
       "  'goodman': 0.03207315416634782,\n",
       "  'synatt': 0.007404886108083775,\n",
       "  'geca': 0.010151945458338545},\n",
       " 'intersect': {'lstm': 2.2097249820656808e-56,\n",
       "  'lstmcopy': 2.2097249820656808e-56,\n",
       "  'simple': nan,\n",
       "  'pmi': 1.2786842138353946e-17,\n",
       "  'forward': nan,\n",
       "  'goodman': 4.648463972959139e-13,\n",
       "  'synatt': 1.3632382270638345e-11,\n",
       "  'geca': 4.3894975207545494e-13},\n",
       " 'forward': {'lstm': 2.2097249820656808e-56,\n",
       "  'lstmcopy': 2.2097249820656808e-56,\n",
       "  'simple': nan,\n",
       "  'pmi': 1.2786842138353946e-17,\n",
       "  'intersect': nan,\n",
       "  'goodman': 4.648463972959139e-13,\n",
       "  'synatt': 1.3632382270638345e-11,\n",
       "  'geca': 4.3894975207545494e-13},\n",
       " 'goodman': {'lstm': 1.3714009158038045e-26,\n",
       "  'lstmcopy': 1.3714009158038045e-26,\n",
       "  'simple': 4.648463972959139e-13,\n",
       "  'pmi': 0.03207315416634782,\n",
       "  'intersect': 4.648463972959139e-13,\n",
       "  'forward': 4.648463972959139e-13,\n",
       "  'synatt': 0.7067135156000044,\n",
       "  'geca': 0.6961784881720334},\n",
       " 'synatt': {'lstm': 5.962002895383235e-28,\n",
       "  'lstmcopy': 5.962002895383235e-28,\n",
       "  'simple': 1.3632382270638345e-11,\n",
       "  'pmi': 0.007404886108083775,\n",
       "  'intersect': 1.3632382270638345e-11,\n",
       "  'forward': 1.3632382270638345e-11,\n",
       "  'goodman': 0.7067135156000044,\n",
       "  'geca': 0.4577836765682082},\n",
       " 'geca': {'lstm': 1.0387991867036785e-25,\n",
       "  'lstmcopy': 1.0387991867036785e-25,\n",
       "  'simple': 4.3894975207545494e-13,\n",
       "  'pmi': 0.010151945458338545,\n",
       "  'intersect': 4.3894975207545494e-13,\n",
       "  'forward': 4.3894975207545494e-13,\n",
       "  'goodman': 0.6961784881720334,\n",
       "  'synatt': 0.4577836765682082}}"
      ]
     },
     "execution_count": 57,
     "metadata": {},
     "output_type": "execute_result"
    }
   ],
   "source": [
    "main_table_significance[\"Colors\"]"
   ]
  },
  {
   "cell_type": "markdown",
   "metadata": {},
   "source": [
    "### Cogs"
   ]
  },
  {
   "cell_type": "code",
   "execution_count": 58,
   "metadata": {},
   "outputs": [],
   "source": [
    "cogs_home = exp_home + \"COGS/\""
   ]
  },
  {
   "cell_type": "code",
   "execution_count": 59,
   "metadata": {},
   "outputs": [],
   "source": [
    "def cogs(datainfo=None):\n",
    "    \n",
    "    exp_folders = {\"geca_j\": cogs_home + \"geca_j/\",\n",
    "               \"lstm\":cogs_home + \"LSTM/\",\n",
    "               \"lstmcopy\":cogs_home + \"LSTM_copy/\",\n",
    "               \"simple\":cogs_home + \"simple/\",\n",
    "               \"pmi\":cogs_home + \"pmi/\",\n",
    "               \"intersect\":cogs_home + \"fast_intersect/\",\n",
    "               \"forward\":cogs_home + \"fast_forward/\",\n",
    "               \"goodman\":cogs_home + \"goodman/\",\n",
    "                \"synatt\":f\"{ROOT_FOLDER}/syntactic_attention/cogs_large_logs/\"}\n",
    "    return read_all_results(exp_folders,\"cogs\", datainfo=datainfo, read_category=True)"
   ]
  },
  {
   "cell_type": "code",
   "execution_count": 60,
   "metadata": {},
   "outputs": [],
   "source": [
    "cogs_results = cogs(datainfo=cogsinfo)\n",
    "main_table_scores[\"COGS\"] = {}\n",
    "cogs_results['geca'] = cogs_results.pop('geca_j')"
   ]
  },
  {
   "cell_type": "code",
   "execution_count": 61,
   "metadata": {},
   "outputs": [],
   "source": [
    "# cogs_results['pmi'].insert(7,cogs_results['pmi'][7])"
   ]
  },
  {
   "cell_type": "code",
   "execution_count": 62,
   "metadata": {},
   "outputs": [],
   "source": [
    "for (exp_name, results) in cogs_results.items():\n",
    "    main_table_scores[\"COGS\"][exp_name] = get_accuracy([result.results for result in results])"
   ]
  },
  {
   "cell_type": "code",
   "execution_count": 63,
   "metadata": {},
   "outputs": [],
   "source": [
    "#cogs_results['pmi'][7] = cogs_results['pmi'][8] #  sorry for missing experiments"
   ]
  },
  {
   "cell_type": "code",
   "execution_count": 64,
   "metadata": {},
   "outputs": [],
   "source": [
    "main_table_significance[\"COGS\"] = {}\n",
    "update_significance(cogs_results,main_table_significance[\"COGS\"])"
   ]
  },
  {
   "cell_type": "code",
   "execution_count": 65,
   "metadata": {},
   "outputs": [],
   "source": [
    "main_table_significance;"
   ]
  },
  {
   "cell_type": "code",
   "execution_count": 66,
   "metadata": {},
   "outputs": [],
   "source": [
    "def diagonalize(df):\n",
    "    return df.loc[df.columns]"
   ]
  },
  {
   "cell_type": "code",
   "execution_count": 67,
   "metadata": {},
   "outputs": [
    {
     "data": {
      "text/html": [
       "<div>\n",
       "<style scoped>\n",
       "    .dataframe tbody tr th:only-of-type {\n",
       "        vertical-align: middle;\n",
       "    }\n",
       "\n",
       "    .dataframe tbody tr th {\n",
       "        vertical-align: top;\n",
       "    }\n",
       "\n",
       "    .dataframe thead th {\n",
       "        text-align: right;\n",
       "    }\n",
       "</style>\n",
       "<table border=\"1\" class=\"dataframe\">\n",
       "  <thead>\n",
       "    <tr style=\"text-align: right;\">\n",
       "      <th></th>\n",
       "      <th>lstm</th>\n",
       "      <th>lstmcopy</th>\n",
       "      <th>simple</th>\n",
       "      <th>pmi</th>\n",
       "      <th>intersect</th>\n",
       "      <th>forward</th>\n",
       "      <th>goodman</th>\n",
       "      <th>synatt</th>\n",
       "      <th>geca</th>\n",
       "    </tr>\n",
       "  </thead>\n",
       "  <tbody>\n",
       "    <tr>\n",
       "      <th>lstm</th>\n",
       "      <td>NaN</td>\n",
       "      <td>NaN</td>\n",
       "      <td>2.209725e-56</td>\n",
       "      <td>4.219013e-20</td>\n",
       "      <td>2.209725e-56</td>\n",
       "      <td>2.209725e-56</td>\n",
       "      <td>1.371401e-26</td>\n",
       "      <td>5.962003e-28</td>\n",
       "      <td>1.038799e-25</td>\n",
       "    </tr>\n",
       "    <tr>\n",
       "      <th>lstmcopy</th>\n",
       "      <td>NaN</td>\n",
       "      <td>NaN</td>\n",
       "      <td>2.209725e-56</td>\n",
       "      <td>4.219013e-20</td>\n",
       "      <td>2.209725e-56</td>\n",
       "      <td>2.209725e-56</td>\n",
       "      <td>1.371401e-26</td>\n",
       "      <td>5.962003e-28</td>\n",
       "      <td>1.038799e-25</td>\n",
       "    </tr>\n",
       "    <tr>\n",
       "      <th>simple</th>\n",
       "      <td>2.209725e-56</td>\n",
       "      <td>2.209725e-56</td>\n",
       "      <td>NaN</td>\n",
       "      <td>1.278684e-17</td>\n",
       "      <td>NaN</td>\n",
       "      <td>NaN</td>\n",
       "      <td>4.648464e-13</td>\n",
       "      <td>1.363238e-11</td>\n",
       "      <td>4.389498e-13</td>\n",
       "    </tr>\n",
       "    <tr>\n",
       "      <th>pmi</th>\n",
       "      <td>4.219013e-20</td>\n",
       "      <td>4.219013e-20</td>\n",
       "      <td>1.278684e-17</td>\n",
       "      <td>NaN</td>\n",
       "      <td>1.278684e-17</td>\n",
       "      <td>1.278684e-17</td>\n",
       "      <td>3.207315e-02</td>\n",
       "      <td>7.404886e-03</td>\n",
       "      <td>1.015195e-02</td>\n",
       "    </tr>\n",
       "    <tr>\n",
       "      <th>intersect</th>\n",
       "      <td>2.209725e-56</td>\n",
       "      <td>2.209725e-56</td>\n",
       "      <td>NaN</td>\n",
       "      <td>1.278684e-17</td>\n",
       "      <td>NaN</td>\n",
       "      <td>NaN</td>\n",
       "      <td>4.648464e-13</td>\n",
       "      <td>1.363238e-11</td>\n",
       "      <td>4.389498e-13</td>\n",
       "    </tr>\n",
       "    <tr>\n",
       "      <th>forward</th>\n",
       "      <td>2.209725e-56</td>\n",
       "      <td>2.209725e-56</td>\n",
       "      <td>NaN</td>\n",
       "      <td>1.278684e-17</td>\n",
       "      <td>NaN</td>\n",
       "      <td>NaN</td>\n",
       "      <td>4.648464e-13</td>\n",
       "      <td>1.363238e-11</td>\n",
       "      <td>4.389498e-13</td>\n",
       "    </tr>\n",
       "    <tr>\n",
       "      <th>goodman</th>\n",
       "      <td>1.371401e-26</td>\n",
       "      <td>1.371401e-26</td>\n",
       "      <td>4.648464e-13</td>\n",
       "      <td>3.207315e-02</td>\n",
       "      <td>4.648464e-13</td>\n",
       "      <td>4.648464e-13</td>\n",
       "      <td>NaN</td>\n",
       "      <td>7.067135e-01</td>\n",
       "      <td>6.961785e-01</td>\n",
       "    </tr>\n",
       "    <tr>\n",
       "      <th>synatt</th>\n",
       "      <td>5.962003e-28</td>\n",
       "      <td>5.962003e-28</td>\n",
       "      <td>1.363238e-11</td>\n",
       "      <td>7.404886e-03</td>\n",
       "      <td>1.363238e-11</td>\n",
       "      <td>1.363238e-11</td>\n",
       "      <td>7.067135e-01</td>\n",
       "      <td>NaN</td>\n",
       "      <td>4.577837e-01</td>\n",
       "    </tr>\n",
       "    <tr>\n",
       "      <th>geca</th>\n",
       "      <td>1.038799e-25</td>\n",
       "      <td>1.038799e-25</td>\n",
       "      <td>4.389498e-13</td>\n",
       "      <td>1.015195e-02</td>\n",
       "      <td>4.389498e-13</td>\n",
       "      <td>4.389498e-13</td>\n",
       "      <td>6.961785e-01</td>\n",
       "      <td>4.577837e-01</td>\n",
       "      <td>NaN</td>\n",
       "    </tr>\n",
       "  </tbody>\n",
       "</table>\n",
       "</div>"
      ],
      "text/plain": [
       "                   lstm      lstmcopy        simple           pmi  \\\n",
       "lstm                NaN           NaN  2.209725e-56  4.219013e-20   \n",
       "lstmcopy            NaN           NaN  2.209725e-56  4.219013e-20   \n",
       "simple     2.209725e-56  2.209725e-56           NaN  1.278684e-17   \n",
       "pmi        4.219013e-20  4.219013e-20  1.278684e-17           NaN   \n",
       "intersect  2.209725e-56  2.209725e-56           NaN  1.278684e-17   \n",
       "forward    2.209725e-56  2.209725e-56           NaN  1.278684e-17   \n",
       "goodman    1.371401e-26  1.371401e-26  4.648464e-13  3.207315e-02   \n",
       "synatt     5.962003e-28  5.962003e-28  1.363238e-11  7.404886e-03   \n",
       "geca       1.038799e-25  1.038799e-25  4.389498e-13  1.015195e-02   \n",
       "\n",
       "              intersect       forward       goodman        synatt  \\\n",
       "lstm       2.209725e-56  2.209725e-56  1.371401e-26  5.962003e-28   \n",
       "lstmcopy   2.209725e-56  2.209725e-56  1.371401e-26  5.962003e-28   \n",
       "simple              NaN           NaN  4.648464e-13  1.363238e-11   \n",
       "pmi        1.278684e-17  1.278684e-17  3.207315e-02  7.404886e-03   \n",
       "intersect           NaN           NaN  4.648464e-13  1.363238e-11   \n",
       "forward             NaN           NaN  4.648464e-13  1.363238e-11   \n",
       "goodman    4.648464e-13  4.648464e-13           NaN  7.067135e-01   \n",
       "synatt     1.363238e-11  1.363238e-11  7.067135e-01           NaN   \n",
       "geca       4.389498e-13  4.389498e-13  6.961785e-01  4.577837e-01   \n",
       "\n",
       "                   geca  \n",
       "lstm       1.038799e-25  \n",
       "lstmcopy   1.038799e-25  \n",
       "simple     4.389498e-13  \n",
       "pmi        1.015195e-02  \n",
       "intersect  4.389498e-13  \n",
       "forward    4.389498e-13  \n",
       "goodman    6.961785e-01  \n",
       "synatt     4.577837e-01  \n",
       "geca                NaN  "
      ]
     },
     "execution_count": 67,
     "metadata": {},
     "output_type": "execute_result"
    }
   ],
   "source": [
    "diagonalize(pd.DataFrame(main_table_significance[\"Colors\"]))"
   ]
  },
  {
   "cell_type": "code",
   "execution_count": 68,
   "metadata": {},
   "outputs": [
    {
     "data": {
      "text/html": [
       "<div>\n",
       "<style scoped>\n",
       "    .dataframe tbody tr th:only-of-type {\n",
       "        vertical-align: middle;\n",
       "    }\n",
       "\n",
       "    .dataframe tbody tr th {\n",
       "        vertical-align: top;\n",
       "    }\n",
       "\n",
       "    .dataframe thead th {\n",
       "        text-align: right;\n",
       "    }\n",
       "</style>\n",
       "<table border=\"1\" class=\"dataframe\">\n",
       "  <thead>\n",
       "    <tr style=\"text-align: right;\">\n",
       "      <th></th>\n",
       "      <th>lstm</th>\n",
       "      <th>lstmcopy</th>\n",
       "      <th>simple</th>\n",
       "      <th>pmi</th>\n",
       "      <th>intersect</th>\n",
       "      <th>forward</th>\n",
       "      <th>goodman</th>\n",
       "      <th>synatt</th>\n",
       "      <th>geca</th>\n",
       "    </tr>\n",
       "  </thead>\n",
       "  <tbody>\n",
       "    <tr>\n",
       "      <th>lstm</th>\n",
       "      <td>NaN</td>\n",
       "      <td>0.0</td>\n",
       "      <td>0.000000e+00</td>\n",
       "      <td>0.000000e+00</td>\n",
       "      <td>0.000000e+00</td>\n",
       "      <td>0.0</td>\n",
       "      <td>0.0</td>\n",
       "      <td>0.0</td>\n",
       "      <td>8.631328e-127</td>\n",
       "    </tr>\n",
       "    <tr>\n",
       "      <th>lstmcopy</th>\n",
       "      <td>0.000000e+00</td>\n",
       "      <td>NaN</td>\n",
       "      <td>0.000000e+00</td>\n",
       "      <td>0.000000e+00</td>\n",
       "      <td>0.000000e+00</td>\n",
       "      <td>0.0</td>\n",
       "      <td>0.0</td>\n",
       "      <td>0.0</td>\n",
       "      <td>0.000000e+00</td>\n",
       "    </tr>\n",
       "    <tr>\n",
       "      <th>simple</th>\n",
       "      <td>0.000000e+00</td>\n",
       "      <td>0.0</td>\n",
       "      <td>NaN</td>\n",
       "      <td>8.375487e-23</td>\n",
       "      <td>6.231631e-02</td>\n",
       "      <td>0.0</td>\n",
       "      <td>0.0</td>\n",
       "      <td>0.0</td>\n",
       "      <td>0.000000e+00</td>\n",
       "    </tr>\n",
       "    <tr>\n",
       "      <th>pmi</th>\n",
       "      <td>0.000000e+00</td>\n",
       "      <td>0.0</td>\n",
       "      <td>8.375487e-23</td>\n",
       "      <td>NaN</td>\n",
       "      <td>2.003500e-37</td>\n",
       "      <td>0.0</td>\n",
       "      <td>0.0</td>\n",
       "      <td>0.0</td>\n",
       "      <td>0.000000e+00</td>\n",
       "    </tr>\n",
       "    <tr>\n",
       "      <th>intersect</th>\n",
       "      <td>0.000000e+00</td>\n",
       "      <td>0.0</td>\n",
       "      <td>6.231631e-02</td>\n",
       "      <td>2.003500e-37</td>\n",
       "      <td>NaN</td>\n",
       "      <td>0.0</td>\n",
       "      <td>0.0</td>\n",
       "      <td>0.0</td>\n",
       "      <td>0.000000e+00</td>\n",
       "    </tr>\n",
       "    <tr>\n",
       "      <th>forward</th>\n",
       "      <td>0.000000e+00</td>\n",
       "      <td>0.0</td>\n",
       "      <td>0.000000e+00</td>\n",
       "      <td>0.000000e+00</td>\n",
       "      <td>0.000000e+00</td>\n",
       "      <td>NaN</td>\n",
       "      <td>0.0</td>\n",
       "      <td>0.0</td>\n",
       "      <td>0.000000e+00</td>\n",
       "    </tr>\n",
       "    <tr>\n",
       "      <th>goodman</th>\n",
       "      <td>0.000000e+00</td>\n",
       "      <td>0.0</td>\n",
       "      <td>0.000000e+00</td>\n",
       "      <td>0.000000e+00</td>\n",
       "      <td>0.000000e+00</td>\n",
       "      <td>0.0</td>\n",
       "      <td>NaN</td>\n",
       "      <td>0.0</td>\n",
       "      <td>0.000000e+00</td>\n",
       "    </tr>\n",
       "    <tr>\n",
       "      <th>synatt</th>\n",
       "      <td>0.000000e+00</td>\n",
       "      <td>0.0</td>\n",
       "      <td>0.000000e+00</td>\n",
       "      <td>0.000000e+00</td>\n",
       "      <td>0.000000e+00</td>\n",
       "      <td>0.0</td>\n",
       "      <td>0.0</td>\n",
       "      <td>NaN</td>\n",
       "      <td>0.000000e+00</td>\n",
       "    </tr>\n",
       "    <tr>\n",
       "      <th>geca</th>\n",
       "      <td>8.631328e-127</td>\n",
       "      <td>0.0</td>\n",
       "      <td>0.000000e+00</td>\n",
       "      <td>0.000000e+00</td>\n",
       "      <td>0.000000e+00</td>\n",
       "      <td>0.0</td>\n",
       "      <td>0.0</td>\n",
       "      <td>0.0</td>\n",
       "      <td>NaN</td>\n",
       "    </tr>\n",
       "  </tbody>\n",
       "</table>\n",
       "</div>"
      ],
      "text/plain": [
       "                    lstm  lstmcopy        simple           pmi     intersect  \\\n",
       "lstm                 NaN       0.0  0.000000e+00  0.000000e+00  0.000000e+00   \n",
       "lstmcopy    0.000000e+00       NaN  0.000000e+00  0.000000e+00  0.000000e+00   \n",
       "simple      0.000000e+00       0.0           NaN  8.375487e-23  6.231631e-02   \n",
       "pmi         0.000000e+00       0.0  8.375487e-23           NaN  2.003500e-37   \n",
       "intersect   0.000000e+00       0.0  6.231631e-02  2.003500e-37           NaN   \n",
       "forward     0.000000e+00       0.0  0.000000e+00  0.000000e+00  0.000000e+00   \n",
       "goodman     0.000000e+00       0.0  0.000000e+00  0.000000e+00  0.000000e+00   \n",
       "synatt      0.000000e+00       0.0  0.000000e+00  0.000000e+00  0.000000e+00   \n",
       "geca       8.631328e-127       0.0  0.000000e+00  0.000000e+00  0.000000e+00   \n",
       "\n",
       "           forward  goodman  synatt           geca  \n",
       "lstm           0.0      0.0     0.0  8.631328e-127  \n",
       "lstmcopy       0.0      0.0     0.0   0.000000e+00  \n",
       "simple         0.0      0.0     0.0   0.000000e+00  \n",
       "pmi            0.0      0.0     0.0   0.000000e+00  \n",
       "intersect      0.0      0.0     0.0   0.000000e+00  \n",
       "forward        NaN      0.0     0.0   0.000000e+00  \n",
       "goodman        0.0      NaN     0.0   0.000000e+00  \n",
       "synatt         0.0      0.0     NaN   0.000000e+00  \n",
       "geca           0.0      0.0     0.0            NaN  "
      ]
     },
     "execution_count": 68,
     "metadata": {},
     "output_type": "execute_result"
    }
   ],
   "source": [
    "diagonalize(pd.DataFrame(main_table_significance[\"COGS\"]))"
   ]
  },
  {
   "cell_type": "code",
   "execution_count": 69,
   "metadata": {},
   "outputs": [
    {
     "data": {
      "text/html": [
       "<div>\n",
       "<style scoped>\n",
       "    .dataframe tbody tr th:only-of-type {\n",
       "        vertical-align: middle;\n",
       "    }\n",
       "\n",
       "    .dataframe tbody tr th {\n",
       "        vertical-align: top;\n",
       "    }\n",
       "\n",
       "    .dataframe thead th {\n",
       "        text-align: right;\n",
       "    }\n",
       "</style>\n",
       "<table border=\"1\" class=\"dataframe\">\n",
       "  <thead>\n",
       "    <tr style=\"text-align: right;\">\n",
       "      <th></th>\n",
       "      <th>lstm</th>\n",
       "      <th>lstmcopy</th>\n",
       "      <th>simple</th>\n",
       "      <th>pmi</th>\n",
       "      <th>intersect</th>\n",
       "      <th>forward</th>\n",
       "      <th>goodman</th>\n",
       "      <th>geca</th>\n",
       "      <th>synatt</th>\n",
       "    </tr>\n",
       "  </thead>\n",
       "  <tbody>\n",
       "    <tr>\n",
       "      <th>lstm</th>\n",
       "      <td>NaN</td>\n",
       "      <td>NaN</td>\n",
       "      <td>0.000000e+00</td>\n",
       "      <td>0.000000e+00</td>\n",
       "      <td>0.000000e+00</td>\n",
       "      <td>0.000000e+00</td>\n",
       "      <td>0.000000e+00</td>\n",
       "      <td>0.000000e+00</td>\n",
       "      <td>0.0</td>\n",
       "    </tr>\n",
       "    <tr>\n",
       "      <th>lstmcopy</th>\n",
       "      <td>NaN</td>\n",
       "      <td>NaN</td>\n",
       "      <td>0.000000e+00</td>\n",
       "      <td>0.000000e+00</td>\n",
       "      <td>0.000000e+00</td>\n",
       "      <td>0.000000e+00</td>\n",
       "      <td>0.000000e+00</td>\n",
       "      <td>0.000000e+00</td>\n",
       "      <td>0.0</td>\n",
       "    </tr>\n",
       "    <tr>\n",
       "      <th>simple</th>\n",
       "      <td>0.0</td>\n",
       "      <td>0.0</td>\n",
       "      <td>NaN</td>\n",
       "      <td>0.000000e+00</td>\n",
       "      <td>0.000000e+00</td>\n",
       "      <td>0.000000e+00</td>\n",
       "      <td>0.000000e+00</td>\n",
       "      <td>2.279297e-225</td>\n",
       "      <td>0.0</td>\n",
       "    </tr>\n",
       "    <tr>\n",
       "      <th>pmi</th>\n",
       "      <td>0.0</td>\n",
       "      <td>0.0</td>\n",
       "      <td>0.000000e+00</td>\n",
       "      <td>NaN</td>\n",
       "      <td>2.988191e-196</td>\n",
       "      <td>2.988191e-196</td>\n",
       "      <td>7.285445e-01</td>\n",
       "      <td>0.000000e+00</td>\n",
       "      <td>0.0</td>\n",
       "    </tr>\n",
       "    <tr>\n",
       "      <th>intersect</th>\n",
       "      <td>0.0</td>\n",
       "      <td>0.0</td>\n",
       "      <td>0.000000e+00</td>\n",
       "      <td>2.988191e-196</td>\n",
       "      <td>NaN</td>\n",
       "      <td>NaN</td>\n",
       "      <td>3.918865e-199</td>\n",
       "      <td>0.000000e+00</td>\n",
       "      <td>0.0</td>\n",
       "    </tr>\n",
       "    <tr>\n",
       "      <th>forward</th>\n",
       "      <td>0.0</td>\n",
       "      <td>0.0</td>\n",
       "      <td>0.000000e+00</td>\n",
       "      <td>2.988191e-196</td>\n",
       "      <td>NaN</td>\n",
       "      <td>NaN</td>\n",
       "      <td>3.918865e-199</td>\n",
       "      <td>0.000000e+00</td>\n",
       "      <td>0.0</td>\n",
       "    </tr>\n",
       "    <tr>\n",
       "      <th>goodman</th>\n",
       "      <td>0.0</td>\n",
       "      <td>0.0</td>\n",
       "      <td>0.000000e+00</td>\n",
       "      <td>7.285445e-01</td>\n",
       "      <td>3.918865e-199</td>\n",
       "      <td>3.918865e-199</td>\n",
       "      <td>NaN</td>\n",
       "      <td>0.000000e+00</td>\n",
       "      <td>0.0</td>\n",
       "    </tr>\n",
       "    <tr>\n",
       "      <th>geca</th>\n",
       "      <td>0.0</td>\n",
       "      <td>0.0</td>\n",
       "      <td>2.279297e-225</td>\n",
       "      <td>0.000000e+00</td>\n",
       "      <td>0.000000e+00</td>\n",
       "      <td>0.000000e+00</td>\n",
       "      <td>0.000000e+00</td>\n",
       "      <td>NaN</td>\n",
       "      <td>0.0</td>\n",
       "    </tr>\n",
       "    <tr>\n",
       "      <th>synatt</th>\n",
       "      <td>0.0</td>\n",
       "      <td>0.0</td>\n",
       "      <td>0.000000e+00</td>\n",
       "      <td>0.000000e+00</td>\n",
       "      <td>0.000000e+00</td>\n",
       "      <td>0.000000e+00</td>\n",
       "      <td>0.000000e+00</td>\n",
       "      <td>0.000000e+00</td>\n",
       "      <td>NaN</td>\n",
       "    </tr>\n",
       "  </tbody>\n",
       "</table>\n",
       "</div>"
      ],
      "text/plain": [
       "           lstm  lstmcopy         simple            pmi      intersect  \\\n",
       "lstm        NaN       NaN   0.000000e+00   0.000000e+00   0.000000e+00   \n",
       "lstmcopy    NaN       NaN   0.000000e+00   0.000000e+00   0.000000e+00   \n",
       "simple      0.0       0.0            NaN   0.000000e+00   0.000000e+00   \n",
       "pmi         0.0       0.0   0.000000e+00            NaN  2.988191e-196   \n",
       "intersect   0.0       0.0   0.000000e+00  2.988191e-196            NaN   \n",
       "forward     0.0       0.0   0.000000e+00  2.988191e-196            NaN   \n",
       "goodman     0.0       0.0   0.000000e+00   7.285445e-01  3.918865e-199   \n",
       "geca        0.0       0.0  2.279297e-225   0.000000e+00   0.000000e+00   \n",
       "synatt      0.0       0.0   0.000000e+00   0.000000e+00   0.000000e+00   \n",
       "\n",
       "                 forward        goodman           geca  synatt  \n",
       "lstm        0.000000e+00   0.000000e+00   0.000000e+00     0.0  \n",
       "lstmcopy    0.000000e+00   0.000000e+00   0.000000e+00     0.0  \n",
       "simple      0.000000e+00   0.000000e+00  2.279297e-225     0.0  \n",
       "pmi        2.988191e-196   7.285445e-01   0.000000e+00     0.0  \n",
       "intersect            NaN  3.918865e-199   0.000000e+00     0.0  \n",
       "forward              NaN  3.918865e-199   0.000000e+00     0.0  \n",
       "goodman    3.918865e-199            NaN   0.000000e+00     0.0  \n",
       "geca        0.000000e+00   0.000000e+00            NaN     0.0  \n",
       "synatt      0.000000e+00   0.000000e+00   0.000000e+00     NaN  "
      ]
     },
     "execution_count": 69,
     "metadata": {},
     "output_type": "execute_result"
    }
   ],
   "source": [
    "diagonalize(pd.DataFrame(main_table_significance[\"around_right\"]))"
   ]
  },
  {
   "cell_type": "code",
   "execution_count": 70,
   "metadata": {},
   "outputs": [
    {
     "data": {
      "text/html": [
       "<div>\n",
       "<style scoped>\n",
       "    .dataframe tbody tr th:only-of-type {\n",
       "        vertical-align: middle;\n",
       "    }\n",
       "\n",
       "    .dataframe tbody tr th {\n",
       "        vertical-align: top;\n",
       "    }\n",
       "\n",
       "    .dataframe thead th {\n",
       "        text-align: right;\n",
       "    }\n",
       "</style>\n",
       "<table border=\"1\" class=\"dataframe\">\n",
       "  <thead>\n",
       "    <tr style=\"text-align: right;\">\n",
       "      <th></th>\n",
       "      <th>lstm</th>\n",
       "      <th>lstmcopy</th>\n",
       "      <th>simple</th>\n",
       "      <th>pmi</th>\n",
       "      <th>intersect</th>\n",
       "      <th>forward</th>\n",
       "      <th>goodman</th>\n",
       "      <th>geca</th>\n",
       "      <th>synatt</th>\n",
       "    </tr>\n",
       "  </thead>\n",
       "  <tbody>\n",
       "    <tr>\n",
       "      <th>lstmcopy</th>\n",
       "      <td>NaN</td>\n",
       "      <td>NaN</td>\n",
       "      <td>0.000000e+00</td>\n",
       "      <td>0.000000e+00</td>\n",
       "      <td>0.000000e+00</td>\n",
       "      <td>0.000000e+00</td>\n",
       "      <td>0.000000e+00</td>\n",
       "      <td>0.0</td>\n",
       "      <td>0.0</td>\n",
       "    </tr>\n",
       "    <tr>\n",
       "      <th>simple</th>\n",
       "      <td>0.0</td>\n",
       "      <td>0.0</td>\n",
       "      <td>NaN</td>\n",
       "      <td>4.990719e-234</td>\n",
       "      <td>0.000000e+00</td>\n",
       "      <td>NaN</td>\n",
       "      <td>0.000000e+00</td>\n",
       "      <td>0.0</td>\n",
       "      <td>0.0</td>\n",
       "    </tr>\n",
       "    <tr>\n",
       "      <th>pmi</th>\n",
       "      <td>0.0</td>\n",
       "      <td>0.0</td>\n",
       "      <td>4.990719e-234</td>\n",
       "      <td>NaN</td>\n",
       "      <td>0.000000e+00</td>\n",
       "      <td>4.990719e-234</td>\n",
       "      <td>0.000000e+00</td>\n",
       "      <td>0.0</td>\n",
       "      <td>0.0</td>\n",
       "    </tr>\n",
       "    <tr>\n",
       "      <th>intersect</th>\n",
       "      <td>0.0</td>\n",
       "      <td>0.0</td>\n",
       "      <td>0.000000e+00</td>\n",
       "      <td>0.000000e+00</td>\n",
       "      <td>NaN</td>\n",
       "      <td>0.000000e+00</td>\n",
       "      <td>2.045249e-94</td>\n",
       "      <td>0.0</td>\n",
       "      <td>0.0</td>\n",
       "    </tr>\n",
       "    <tr>\n",
       "      <th>forward</th>\n",
       "      <td>0.0</td>\n",
       "      <td>0.0</td>\n",
       "      <td>NaN</td>\n",
       "      <td>4.990719e-234</td>\n",
       "      <td>0.000000e+00</td>\n",
       "      <td>NaN</td>\n",
       "      <td>0.000000e+00</td>\n",
       "      <td>0.0</td>\n",
       "      <td>0.0</td>\n",
       "    </tr>\n",
       "    <tr>\n",
       "      <th>goodman</th>\n",
       "      <td>0.0</td>\n",
       "      <td>0.0</td>\n",
       "      <td>0.000000e+00</td>\n",
       "      <td>0.000000e+00</td>\n",
       "      <td>2.045249e-94</td>\n",
       "      <td>0.000000e+00</td>\n",
       "      <td>NaN</td>\n",
       "      <td>0.0</td>\n",
       "      <td>0.0</td>\n",
       "    </tr>\n",
       "    <tr>\n",
       "      <th>geca</th>\n",
       "      <td>0.0</td>\n",
       "      <td>0.0</td>\n",
       "      <td>0.000000e+00</td>\n",
       "      <td>0.000000e+00</td>\n",
       "      <td>0.000000e+00</td>\n",
       "      <td>0.000000e+00</td>\n",
       "      <td>0.000000e+00</td>\n",
       "      <td>NaN</td>\n",
       "      <td>0.0</td>\n",
       "    </tr>\n",
       "    <tr>\n",
       "      <th>synatt</th>\n",
       "      <td>0.0</td>\n",
       "      <td>0.0</td>\n",
       "      <td>0.000000e+00</td>\n",
       "      <td>0.000000e+00</td>\n",
       "      <td>0.000000e+00</td>\n",
       "      <td>0.000000e+00</td>\n",
       "      <td>0.000000e+00</td>\n",
       "      <td>0.0</td>\n",
       "      <td>NaN</td>\n",
       "    </tr>\n",
       "    <tr>\n",
       "      <th>lstm</th>\n",
       "      <td>NaN</td>\n",
       "      <td>NaN</td>\n",
       "      <td>0.000000e+00</td>\n",
       "      <td>0.000000e+00</td>\n",
       "      <td>0.000000e+00</td>\n",
       "      <td>0.000000e+00</td>\n",
       "      <td>0.000000e+00</td>\n",
       "      <td>0.0</td>\n",
       "      <td>0.0</td>\n",
       "    </tr>\n",
       "  </tbody>\n",
       "</table>\n",
       "</div>"
      ],
      "text/plain": [
       "           lstm  lstmcopy         simple            pmi     intersect  \\\n",
       "lstmcopy    NaN       NaN   0.000000e+00   0.000000e+00  0.000000e+00   \n",
       "simple      0.0       0.0            NaN  4.990719e-234  0.000000e+00   \n",
       "pmi         0.0       0.0  4.990719e-234            NaN  0.000000e+00   \n",
       "intersect   0.0       0.0   0.000000e+00   0.000000e+00           NaN   \n",
       "forward     0.0       0.0            NaN  4.990719e-234  0.000000e+00   \n",
       "goodman     0.0       0.0   0.000000e+00   0.000000e+00  2.045249e-94   \n",
       "geca        0.0       0.0   0.000000e+00   0.000000e+00  0.000000e+00   \n",
       "synatt      0.0       0.0   0.000000e+00   0.000000e+00  0.000000e+00   \n",
       "lstm        NaN       NaN   0.000000e+00   0.000000e+00  0.000000e+00   \n",
       "\n",
       "                 forward       goodman  geca  synatt  \n",
       "lstmcopy    0.000000e+00  0.000000e+00   0.0     0.0  \n",
       "simple               NaN  0.000000e+00   0.0     0.0  \n",
       "pmi        4.990719e-234  0.000000e+00   0.0     0.0  \n",
       "intersect   0.000000e+00  2.045249e-94   0.0     0.0  \n",
       "forward              NaN  0.000000e+00   0.0     0.0  \n",
       "goodman     0.000000e+00           NaN   0.0     0.0  \n",
       "geca        0.000000e+00  0.000000e+00   NaN     0.0  \n",
       "synatt      0.000000e+00  0.000000e+00   0.0     NaN  \n",
       "lstm        0.000000e+00  0.000000e+00   0.0     0.0  "
      ]
     },
     "execution_count": 70,
     "metadata": {},
     "output_type": "execute_result"
    }
   ],
   "source": [
    "pd.DataFrame(main_table_significance[\"jump\"])"
   ]
  },
  {
   "cell_type": "code",
   "execution_count": 71,
   "metadata": {},
   "outputs": [
    {
     "data": {
      "text/plain": [
       "{'around_right': {'lstm': 0.08646112600536192+/-0.045231659739827956,\n",
       "  'lstmcopy': 0.08646112600536192+/-0.045231659739827956,\n",
       "  'simple': 0.9493967828418229+/-0.012642238428318108,\n",
       "  'pmi': 0.020352993744414658+/-0.034984405194322846,\n",
       "  'intersect': 0.00020107238605898123+/-0.0004052358611978788,\n",
       "  'forward': 0.00020107238605898123+/-0.0004052358611978788,\n",
       "  'goodman': 0.02064343163538874+/-0.03909743393335053,\n",
       "  'geca': 0.9849865951742626+/-0.019047330258969555,\n",
       "  'synatt': 0.27625111706881145+/-0.2578109680038039},\n",
       " 'jump': {'lstm': 0.0040877238515442515+/-0.0034491470476186144,\n",
       "  'lstmcopy': 0.0040877238515442515+/-0.0034491470476186144,\n",
       "  'simple': 0.9168569945497016+/-0.17091975971191123,\n",
       "  'pmi': 0.954684661302881+/-0.0816483642264005,\n",
       "  'intersect': 0.7905528159875421+/-0.26787430886295,\n",
       "  'forward': 0.9168569945497016+/-0.17091975971191123,\n",
       "  'goodman': 0.8161302880872048+/-0.28978730899164934,\n",
       "  'geca': 0.9994030625486634+/-0.000993729027722646,\n",
       "  'synatt': 0.5727744614586037+/-0.38042580893911965},\n",
       " 'Colors': {'lstm': 0.0+/-0,\n",
       "  'lstmcopy': 0.0+/-0,\n",
       "  'simple': 0.7937500000000001+/-0.024206145913796377,\n",
       "  'pmi': 0.4125+/-0.1899835519196333,\n",
       "  'intersect': 0.7937500000000001+/-0.024206145913796377,\n",
       "  'forward': 0.7937500000000001+/-0.024206145913796377,\n",
       "  'goodman': 0.5125+/-0.21469455046647085,\n",
       "  'synatt': 0.53125+/-0.26860461183680373,\n",
       "  'geca': 0.5+/-0},\n",
       " 'COGS': {'lstm': 0.5095619047619048+/-0.0549003583085177,\n",
       "  'lstmcopy': 0.658695238095238+/-0.030558469290058916,\n",
       "  'simple': 0.8212904761904761+/-0.00610904129037678,\n",
       "  'pmi': 0.8237238095238094+/-0.004820863576537158,\n",
       "  'intersect': 0.8208142857142857+/-0.0024147552844750704,\n",
       "  'forward': 0.2970095238095238+/-0.06591550903289572,\n",
       "  'goodman': 0.6999666666666666+/-0.0353392951586888,\n",
       "  'synatt': 0.15436666666666668+/-0.13607927536430178,\n",
       "  'geca': 0.477447619047619+/-0.04520303503546232}}"
      ]
     },
     "execution_count": 71,
     "metadata": {},
     "output_type": "execute_result"
    }
   ],
   "source": [
    "main_table_scores"
   ]
  },
  {
   "cell_type": "code",
   "execution_count": 72,
   "metadata": {},
   "outputs": [],
   "source": [
    "main_table = pd.DataFrame(main_table_scores, columns=['COGS','around_right', 'jump', 'Colors'], index=['lstm','lstmcopy','geca','synatt','simple','pmi','intersect','forward','goodman'])"
   ]
  },
  {
   "cell_type": "code",
   "execution_count": 73,
   "metadata": {},
   "outputs": [
    {
     "data": {
      "text/html": [
       "<div>\n",
       "<style scoped>\n",
       "    .dataframe tbody tr th:only-of-type {\n",
       "        vertical-align: middle;\n",
       "    }\n",
       "\n",
       "    .dataframe tbody tr th {\n",
       "        vertical-align: top;\n",
       "    }\n",
       "\n",
       "    .dataframe thead th {\n",
       "        text-align: right;\n",
       "    }\n",
       "</style>\n",
       "<table border=\"1\" class=\"dataframe\">\n",
       "  <thead>\n",
       "    <tr style=\"text-align: right;\">\n",
       "      <th></th>\n",
       "      <th>Colors</th>\n",
       "      <th>jump</th>\n",
       "      <th>around_right</th>\n",
       "      <th>COGS</th>\n",
       "    </tr>\n",
       "  </thead>\n",
       "  <tbody>\n",
       "    <tr>\n",
       "      <th>lstm</th>\n",
       "      <td>0.0+/-0</td>\n",
       "      <td>0.0041+/-0.0034</td>\n",
       "      <td>0.09+/-0.05</td>\n",
       "      <td>0.51+/-0.05</td>\n",
       "    </tr>\n",
       "    <tr>\n",
       "      <th>lstmcopy</th>\n",
       "      <td>0.0+/-0</td>\n",
       "      <td>0.0041+/-0.0034</td>\n",
       "      <td>0.09+/-0.05</td>\n",
       "      <td>0.659+/-0.031</td>\n",
       "    </tr>\n",
       "    <tr>\n",
       "      <th>geca</th>\n",
       "      <td>0.5+/-0</td>\n",
       "      <td>0.9994+/-0.0010</td>\n",
       "      <td>0.985+/-0.019</td>\n",
       "      <td>0.48+/-0.05</td>\n",
       "    </tr>\n",
       "    <tr>\n",
       "      <th>synatt</th>\n",
       "      <td>0.53+/-0.27</td>\n",
       "      <td>0.6+/-0.4</td>\n",
       "      <td>0.28+/-0.26</td>\n",
       "      <td>0.15+/-0.14</td>\n",
       "    </tr>\n",
       "    <tr>\n",
       "      <th>simple</th>\n",
       "      <td>0.794+/-0.024</td>\n",
       "      <td>0.92+/-0.17</td>\n",
       "      <td>0.949+/-0.013</td>\n",
       "      <td>0.821+/-0.006</td>\n",
       "    </tr>\n",
       "    <tr>\n",
       "      <th>pmi</th>\n",
       "      <td>0.41+/-0.19</td>\n",
       "      <td>0.95+/-0.08</td>\n",
       "      <td>0.020+/-0.035</td>\n",
       "      <td>0.824+/-0.005</td>\n",
       "    </tr>\n",
       "    <tr>\n",
       "      <th>intersect</th>\n",
       "      <td>0.794+/-0.024</td>\n",
       "      <td>0.79+/-0.27</td>\n",
       "      <td>0.0002+/-0.0004</td>\n",
       "      <td>0.8208+/-0.0024</td>\n",
       "    </tr>\n",
       "    <tr>\n",
       "      <th>forward</th>\n",
       "      <td>0.794+/-0.024</td>\n",
       "      <td>0.92+/-0.17</td>\n",
       "      <td>0.0002+/-0.0004</td>\n",
       "      <td>0.30+/-0.07</td>\n",
       "    </tr>\n",
       "    <tr>\n",
       "      <th>goodman</th>\n",
       "      <td>0.51+/-0.21</td>\n",
       "      <td>0.82+/-0.29</td>\n",
       "      <td>0.02+/-0.04</td>\n",
       "      <td>0.700+/-0.035</td>\n",
       "    </tr>\n",
       "  </tbody>\n",
       "</table>\n",
       "</div>"
      ],
      "text/plain": [
       "                  Colors             jump     around_right             COGS\n",
       "lstm             0.0+/-0  0.0041+/-0.0034      0.09+/-0.05      0.51+/-0.05\n",
       "lstmcopy         0.0+/-0  0.0041+/-0.0034      0.09+/-0.05    0.659+/-0.031\n",
       "geca             0.5+/-0  0.9994+/-0.0010    0.985+/-0.019      0.48+/-0.05\n",
       "synatt       0.53+/-0.27        0.6+/-0.4      0.28+/-0.26      0.15+/-0.14\n",
       "simple     0.794+/-0.024      0.92+/-0.17    0.949+/-0.013    0.821+/-0.006\n",
       "pmi          0.41+/-0.19      0.95+/-0.08    0.020+/-0.035    0.824+/-0.005\n",
       "intersect  0.794+/-0.024      0.79+/-0.27  0.0002+/-0.0004  0.8208+/-0.0024\n",
       "forward    0.794+/-0.024      0.92+/-0.17  0.0002+/-0.0004      0.30+/-0.07\n",
       "goodman      0.51+/-0.21      0.82+/-0.29      0.02+/-0.04    0.700+/-0.035"
      ]
     },
     "execution_count": 73,
     "metadata": {},
     "output_type": "execute_result"
    }
   ],
   "source": [
    "main_table[['Colors','jump','around_right','COGS']]"
   ]
  },
  {
   "cell_type": "code",
   "execution_count": 74,
   "metadata": {},
   "outputs": [
    {
     "data": {
      "text/html": [
       "<style  type=\"text/css\" >\n",
       "</style><table id=\"T_d7b248f4_c7d3_11eb_ae0f_27d521b3e9c0\" ><thead>    <tr>        <th class=\"blank level0\" ></th>        <th class=\"col_heading level0 col0\" >COGS</th>        <th class=\"col_heading level0 col1\" >around_right</th>        <th class=\"col_heading level0 col2\" >jump</th>        <th class=\"col_heading level0 col3\" >Colors</th>    </tr></thead><tbody>\n",
       "                <tr>\n",
       "                        <th id=\"T_d7b248f4_c7d3_11eb_ae0f_27d521b3e9c0level0_row0\" class=\"row_heading level0 row0\" >lstm</th>\n",
       "                        <td id=\"T_d7b248f4_c7d3_11eb_ae0f_27d521b3e9c0row0_col0\" class=\"data row0 col0\" >& 0.51±0.05</td>\n",
       "                        <td id=\"T_d7b248f4_c7d3_11eb_ae0f_27d521b3e9c0row0_col1\" class=\"data row0 col1\" >& 0.086±0.045</td>\n",
       "                        <td id=\"T_d7b248f4_c7d3_11eb_ae0f_27d521b3e9c0row0_col2\" class=\"data row0 col2\" >& 0.0041±0.0034</td>\n",
       "                        <td id=\"T_d7b248f4_c7d3_11eb_ae0f_27d521b3e9c0row0_col3\" class=\"data row0 col3\" >& 0.0±0</td>\n",
       "            </tr>\n",
       "            <tr>\n",
       "                        <th id=\"T_d7b248f4_c7d3_11eb_ae0f_27d521b3e9c0level0_row1\" class=\"row_heading level0 row1\" >lstmcopy</th>\n",
       "                        <td id=\"T_d7b248f4_c7d3_11eb_ae0f_27d521b3e9c0row1_col0\" class=\"data row1 col0\" >& 0.66±0.03</td>\n",
       "                        <td id=\"T_d7b248f4_c7d3_11eb_ae0f_27d521b3e9c0row1_col1\" class=\"data row1 col1\" >& 0.086±0.045</td>\n",
       "                        <td id=\"T_d7b248f4_c7d3_11eb_ae0f_27d521b3e9c0row1_col2\" class=\"data row1 col2\" >& 0.0041±0.0034</td>\n",
       "                        <td id=\"T_d7b248f4_c7d3_11eb_ae0f_27d521b3e9c0row1_col3\" class=\"data row1 col3\" >& 0.0±0</td>\n",
       "            </tr>\n",
       "            <tr>\n",
       "                        <th id=\"T_d7b248f4_c7d3_11eb_ae0f_27d521b3e9c0level0_row2\" class=\"row_heading level0 row2\" >geca</th>\n",
       "                        <td id=\"T_d7b248f4_c7d3_11eb_ae0f_27d521b3e9c0row2_col0\" class=\"data row2 col0\" >& 0.48±0.05</td>\n",
       "                        <td id=\"T_d7b248f4_c7d3_11eb_ae0f_27d521b3e9c0row2_col1\" class=\"data row2 col1\" >& 0.98±0.02</td>\n",
       "                        <td id=\"T_d7b248f4_c7d3_11eb_ae0f_27d521b3e9c0row2_col2\" class=\"data row2 col2\" >& 1.0±0.0</td>\n",
       "                        <td id=\"T_d7b248f4_c7d3_11eb_ae0f_27d521b3e9c0row2_col3\" class=\"data row2 col3\" >& 0.5±0</td>\n",
       "            </tr>\n",
       "            <tr>\n",
       "                        <th id=\"T_d7b248f4_c7d3_11eb_ae0f_27d521b3e9c0level0_row3\" class=\"row_heading level0 row3\" >synatt</th>\n",
       "                        <td id=\"T_d7b248f4_c7d3_11eb_ae0f_27d521b3e9c0row3_col0\" class=\"data row3 col0\" >& 0.15±0.14</td>\n",
       "                        <td id=\"T_d7b248f4_c7d3_11eb_ae0f_27d521b3e9c0row3_col1\" class=\"data row3 col1\" >& 0.28±0.26</td>\n",
       "                        <td id=\"T_d7b248f4_c7d3_11eb_ae0f_27d521b3e9c0row3_col2\" class=\"data row3 col2\" >& 0.57±0.38</td>\n",
       "                        <td id=\"T_d7b248f4_c7d3_11eb_ae0f_27d521b3e9c0row3_col3\" class=\"data row3 col3\" >& 0.53±0.27</td>\n",
       "            </tr>\n",
       "            <tr>\n",
       "                        <th id=\"T_d7b248f4_c7d3_11eb_ae0f_27d521b3e9c0level0_row4\" class=\"row_heading level0 row4\" >simple</th>\n",
       "                        <td id=\"T_d7b248f4_c7d3_11eb_ae0f_27d521b3e9c0row4_col0\" class=\"data row4 col0\" >& 0.82±0.01</td>\n",
       "                        <td id=\"T_d7b248f4_c7d3_11eb_ae0f_27d521b3e9c0row4_col1\" class=\"data row4 col1\" >& 0.95±0.01</td>\n",
       "                        <td id=\"T_d7b248f4_c7d3_11eb_ae0f_27d521b3e9c0row4_col2\" class=\"data row4 col2\" >& 0.92±0.17</td>\n",
       "                        <td id=\"T_d7b248f4_c7d3_11eb_ae0f_27d521b3e9c0row4_col3\" class=\"data row4 col3\" >& 0.79±0.02</td>\n",
       "            </tr>\n",
       "            <tr>\n",
       "                        <th id=\"T_d7b248f4_c7d3_11eb_ae0f_27d521b3e9c0level0_row5\" class=\"row_heading level0 row5\" >pmi</th>\n",
       "                        <td id=\"T_d7b248f4_c7d3_11eb_ae0f_27d521b3e9c0row5_col0\" class=\"data row5 col0\" >& 0.82±0.00</td>\n",
       "                        <td id=\"T_d7b248f4_c7d3_11eb_ae0f_27d521b3e9c0row5_col1\" class=\"data row5 col1\" >& 0.020±0.035</td>\n",
       "                        <td id=\"T_d7b248f4_c7d3_11eb_ae0f_27d521b3e9c0row5_col2\" class=\"data row5 col2\" >& 0.95±0.08</td>\n",
       "                        <td id=\"T_d7b248f4_c7d3_11eb_ae0f_27d521b3e9c0row5_col3\" class=\"data row5 col3\" >& 0.41±0.19</td>\n",
       "            </tr>\n",
       "            <tr>\n",
       "                        <th id=\"T_d7b248f4_c7d3_11eb_ae0f_27d521b3e9c0level0_row6\" class=\"row_heading level0 row6\" >intersect</th>\n",
       "                        <td id=\"T_d7b248f4_c7d3_11eb_ae0f_27d521b3e9c0row6_col0\" class=\"data row6 col0\" >& 0.82±0.00</td>\n",
       "                        <td id=\"T_d7b248f4_c7d3_11eb_ae0f_27d521b3e9c0row6_col1\" class=\"data row6 col1\" >& 0.00020±0.00041</td>\n",
       "                        <td id=\"T_d7b248f4_c7d3_11eb_ae0f_27d521b3e9c0row6_col2\" class=\"data row6 col2\" >& 0.79±0.27</td>\n",
       "                        <td id=\"T_d7b248f4_c7d3_11eb_ae0f_27d521b3e9c0row6_col3\" class=\"data row6 col3\" >& 0.79±0.02</td>\n",
       "            </tr>\n",
       "            <tr>\n",
       "                        <th id=\"T_d7b248f4_c7d3_11eb_ae0f_27d521b3e9c0level0_row7\" class=\"row_heading level0 row7\" >forward</th>\n",
       "                        <td id=\"T_d7b248f4_c7d3_11eb_ae0f_27d521b3e9c0row7_col0\" class=\"data row7 col0\" >& 0.30±0.07</td>\n",
       "                        <td id=\"T_d7b248f4_c7d3_11eb_ae0f_27d521b3e9c0row7_col1\" class=\"data row7 col1\" >& 0.00020±0.00041</td>\n",
       "                        <td id=\"T_d7b248f4_c7d3_11eb_ae0f_27d521b3e9c0row7_col2\" class=\"data row7 col2\" >& 0.92±0.17</td>\n",
       "                        <td id=\"T_d7b248f4_c7d3_11eb_ae0f_27d521b3e9c0row7_col3\" class=\"data row7 col3\" >& 0.79±0.02</td>\n",
       "            </tr>\n",
       "            <tr>\n",
       "                        <th id=\"T_d7b248f4_c7d3_11eb_ae0f_27d521b3e9c0level0_row8\" class=\"row_heading level0 row8\" >goodman</th>\n",
       "                        <td id=\"T_d7b248f4_c7d3_11eb_ae0f_27d521b3e9c0row8_col0\" class=\"data row8 col0\" >& 0.70±0.04</td>\n",
       "                        <td id=\"T_d7b248f4_c7d3_11eb_ae0f_27d521b3e9c0row8_col1\" class=\"data row8 col1\" >& 0.021±0.039</td>\n",
       "                        <td id=\"T_d7b248f4_c7d3_11eb_ae0f_27d521b3e9c0row8_col2\" class=\"data row8 col2\" >& 0.82±0.29</td>\n",
       "                        <td id=\"T_d7b248f4_c7d3_11eb_ae0f_27d521b3e9c0row8_col3\" class=\"data row8 col3\" >& 0.51±0.21</td>\n",
       "            </tr>\n",
       "    </tbody></table>"
      ],
      "text/plain": [
       "<pandas.io.formats.style.Styler at 0x14899d7c35c0>"
      ]
     },
     "execution_count": 74,
     "metadata": {},
     "output_type": "execute_result"
    }
   ],
   "source": [
    "main_table.style.format(u'& {:.2P}')"
   ]
  },
  {
   "cell_type": "markdown",
   "metadata": {},
   "source": [
    "# ABLATION I - Translate"
   ]
  },
  {
   "cell_type": "code",
   "execution_count": null,
   "metadata": {},
   "outputs": [],
   "source": [
    "exp_home =\"exp/\"\n",
    "translate_home = exp_home + \"TRANSLATE/\""
   ]
  },
  {
   "cell_type": "code",
   "execution_count": null,
   "metadata": {},
   "outputs": [],
   "source": [
    "def translate(datainfo=None):\n",
    "    exp_folders = {\"pmi\": translate_home + \"pmi/\",\n",
    "                   \"lstm\": translate_home + \"LSTM/\",\n",
    "                   \"simple\": translate_home + \"simple/\", \n",
    "                   \"intersect\" : translate_home + \"fast_intersect/\",\n",
    "                   \"tgeca\": translate_home + \"geca_LSTM/\"}\n",
    "    return read_all_results(exp_folders,\"translate\", datainfo=datainfo, rng=range(5), read_references=True)"
   ]
  },
  {
   "cell_type": "code",
   "execution_count": null,
   "metadata": {},
   "outputs": [],
   "source": [
    "# translate_model = torch.load(translate_home + \"learn_temp_1.0_aligner_TRANSLATE_lr_1.0_warmup_4000_max_8000/cogs_baseline_seed_0_model.m\")"
   ]
  },
  {
   "cell_type": "code",
   "execution_count": null,
   "metadata": {},
   "outputs": [],
   "source": [
    "# pytorch_total_params = sum(p.numel() for p in translate_model.parameters() if p.requires_grad)"
   ]
  },
  {
   "cell_type": "code",
   "execution_count": null,
   "metadata": {},
   "outputs": [],
   "source": [
    "# pytorch_total_params"
   ]
  },
  {
   "cell_type": "code",
   "execution_count": null,
   "metadata": {},
   "outputs": [],
   "source": [
    "translateinfo = read_translate()"
   ]
  },
  {
   "cell_type": "code",
   "execution_count": null,
   "metadata": {},
   "outputs": [],
   "source": [
    "translate_results = translate(datainfo=translateinfo)\n",
    "translate_scores = {\"full\":{}, \"rare\":{}}"
   ]
  },
  {
   "cell_type": "code",
   "execution_count": null,
   "metadata": {},
   "outputs": [],
   "source": [
    "translate_results['lstm'][0].results[0];\n",
    "translate_results['geca'] = translate_results.pop('tgeca');"
   ]
  },
  {
   "cell_type": "code",
   "execution_count": null,
   "metadata": {},
   "outputs": [],
   "source": [
    "# translate_results['lstm'][4].results[0] == translate_results['lstm'][3].results[0] "
   ]
  },
  {
   "cell_type": "code",
   "execution_count": null,
   "metadata": {},
   "outputs": [],
   "source": [
    "for (exp_name, results) in translate_results.items():\n",
    "    translate_scores[\"full\"][exp_name] = get_bleu([result.results for result in results])\n",
    "    translate_scores[\"rare\"][exp_name] = get_bleu([result.results for result in results], rare=True)"
   ]
  },
  {
   "cell_type": "code",
   "execution_count": null,
   "metadata": {},
   "outputs": [],
   "source": [
    "translate_table = pd.DataFrame(translate_scores, columns=['full','rare'], index=['lstm','geca', 'simple', 'pmi', 'intersect'])"
   ]
  },
  {
   "cell_type": "code",
   "execution_count": null,
   "metadata": {},
   "outputs": [],
   "source": [
    "translate_table"
   ]
  },
  {
   "cell_type": "code",
   "execution_count": null,
   "metadata": {},
   "outputs": [],
   "source": [
    "(translate_table * 100).style.format(u'& {:.4L}')"
   ]
  },
  {
   "cell_type": "markdown",
   "metadata": {},
   "source": [
    "# ABLATION II - Translate-LESS"
   ]
  },
  {
   "cell_type": "code",
   "execution_count": null,
   "metadata": {},
   "outputs": [],
   "source": [
    "translate_less_home = exp_home + \"TRANSLATE_LESS/\""
   ]
  },
  {
   "cell_type": "code",
   "execution_count": null,
   "metadata": {},
   "outputs": [],
   "source": [
    "def translate_less(datainfo=None):\n",
    "    exp_folders = {\"lstm\": translate_less_home + \"LSTM/\",\n",
    "                   \"simple\": translate_less_home + \"simple/\", \n",
    "                   \"intersect\" : translate_less_home + \"fast_intersect/\"}\n",
    "    return read_all_results(exp_folders,\"translate\", datainfo=datainfo, rng=range(5), read_references=True)"
   ]
  },
  {
   "cell_type": "code",
   "execution_count": null,
   "metadata": {},
   "outputs": [],
   "source": [
    "translate_less_results = translate_less(datainfo=translateinfo)\n",
    "translate_less_scores = {\"full\":{}, \"rare\":{}}"
   ]
  },
  {
   "cell_type": "markdown",
   "metadata": {},
   "source": [
    "## Model Figure Lexicon"
   ]
  },
  {
   "cell_type": "code",
   "execution_count": 88,
   "metadata": {},
   "outputs": [],
   "source": [
    "plt.style.use('~/.mplstyle')\n",
    "plt.rc('font', family='serif', serif='Times')\n",
    "plt.rc('text', usetex=True)\n",
    "plt.rcParams['figure.dpi'] = 300\n",
    "plt.rcParams['figure.facecolor'] = 'white'\n",
    "def get_heatmap_from_lexicon3(lexicon, file=None, reindex_df=None, indices=None, columns=None, title=\"\", ax=None):\n",
    "    if columns is not None:\n",
    "        lexicon = lexicon[columns]\n",
    "    if indices is not None:\n",
    "        lexicon = lexicon.loc[indices]\n",
    "    lexicon = lexicon.rename(columns=lambda x: x.replace(\"I_\",\"I\").replace(\"TURN_\",\"\"))\n",
    "    if reindex_df is not None:\n",
    "        lexicon =lexicon.reindex(index=reindex_df.index, columns=reindex_df.columns, fill_value=0)\n",
    "    heatmap = sns.heatmap(lexicon, cbar=False,cmap='gist_gray', ax=ax, xticklabels=True, yticklabels=True)\n",
    "    plt.tight_layout()\n",
    "    if ax is not None:\n",
    "        ax.set_title(title)\n",
    "        ax.tick_params(axis='y', rotation=0)\n",
    "        ax.tick_params(axis='x', rotation=30)\n",
    "        \n",
    "        \n",
    "    if file is not None:\n",
    "        heatmap.get_figure().savefig(file)\n",
    "    return lexicon, heatmap"
   ]
  },
  {
   "cell_type": "code",
   "execution_count": 89,
   "metadata": {},
   "outputs": [],
   "source": [
    "from torch.nn.functional import softmax\n",
    "def get_lexicon(results, model='simple', T=0.01):\n",
    "    ibm2lexicon = pd.DataFrame(results[model][0].configs['alignment']).fillna(0).transpose()\n",
    "    ibm2lexicon_normalized = ibm2lexicon.apply(lambda x: pd.Series(softmax(torch.Tensor(x.to_numpy()) / T, dim=0).numpy()), axis=1)\n",
    "    ibm2lexicon_normalized.columns = ibm2lexicon.columns\n",
    "    return ibm2lexicon_normalized"
   ]
  },
  {
   "cell_type": "code",
   "execution_count": 90,
   "metadata": {},
   "outputs": [],
   "source": [
    "# get_heatmap_from_lexicon3(get_lexicon(translate_results, model='intersect'),indices=['Many', 'moons', 'around', 'Saturn'],columns=['許多' ,'衛星','繞著', '土星','運行', '许多','周圍'])"
   ]
  },
  {
   "cell_type": "code",
   "execution_count": 91,
   "metadata": {},
   "outputs": [
    {
     "data": {
      "image/png": "[encoded data removed]",
      "text/plain": [
       "<Figure size 2100x2100 with 4 Axes>"
      ]
     },
     "metadata": {},
     "output_type": "display_data"
    }
   ],
   "source": [
    "ar_index=\"fep blicket kiki dax wif zup lug\".split(\" \")\n",
    "f, axes = plt.subplots(2, 2, figsize=(7, 7), sharey=True, sharex=True)\n",
    "sns.despine(left=True)\n",
    "pmi_ar, _ = get_heatmap_from_lexicon3(get_lexicon(colors_results, model='pmi'), file=\"figures/color_pmi.pdf\", title='PMI', ax=axes[0,1])\n",
    "pmi_ar = pmi_ar.loc[ar_index][[\"RED\",\"GREEN\",\"YELLOW\",\"BLUE\"]]\n",
    "get_heatmap_from_lexicon3(get_lexicon(colors_results, model='simple'), file=\"figures/color_simple.pdf\", title=\"Simple\", reindex_df=pmi_ar, ax=axes[1,1])\n",
    "get_heatmap_from_lexicon3(get_lexicon(colors_results, model='intersect'), file=\"figures/color_ibm2.pdf\", title=\"IBM Model-2\", reindex_df=pmi_ar, ax=axes[0,0])\n",
    "get_heatmap_from_lexicon3(get_lexicon(colors_results, model='goodman'), file=\"figures/color_goodman.pdf\", title='Bayesian', reindex_df=pmi_ar, ax=axes[1,0])\n",
    "f.savefig(\"figures/colors.pdf\", dpi=300)"
   ]
  },
  {
   "cell_type": "code",
   "execution_count": 92,
   "metadata": {},
   "outputs": [
    {
     "data": {
      "image/png": "[encoded data removed]",
      "text/plain": [
       "<Figure size 2100x2100 with 4 Axes>"
      ]
     },
     "metadata": {},
     "output_type": "display_data"
    }
   ],
   "source": [
    "ar_index=\"and thrice twice opposite after around right walk run left look jump\".split(\" \")\n",
    "f, axes = plt.subplots(2, 2, figsize=(7, 7), sharey=True, sharex=True)\n",
    "sns.despine(left=True)\n",
    "pmi_ar, _ = get_heatmap_from_lexicon3(get_lexicon(around_right_results, model='pmi'), file=\"figures/around_right_pmi.pdf\", title='PMI', ax=axes[0,1])\n",
    "pmi_ar = pmi_ar.loc[ar_index]\n",
    "get_heatmap_from_lexicon3(get_lexicon(around_right_results, model='simple'), file=\"figures/around_right_simple.pdf\", title=\"Simple\", reindex_df=pmi_ar, ax=axes[1,1])\n",
    "get_heatmap_from_lexicon3(get_lexicon(around_right_results, model='intersect'), file=\"figures/around_right_ibm2.pdf\", title=\"IBM Model-2\", reindex_df=pmi_ar, ax=axes[0,0])\n",
    "get_heatmap_from_lexicon3(get_lexicon(around_right_results, model='goodman'), file=\"figures/around_right_goodman.pdf\", title='Bayesian', reindex_df=pmi_ar, ax=axes[1,0])\n",
    "f.savefig(\"figures/around_right.pdf\", dpi=300)"
   ]
  },
  {
   "cell_type": "code",
   "execution_count": 93,
   "metadata": {},
   "outputs": [
    {
     "data": {
      "image/png": "[encoded data removed]",
      "text/plain": [
       "<Figure size 2100x2100 with 4 Axes>"
      ]
     },
     "metadata": {},
     "output_type": "display_data"
    }
   ],
   "source": [
    "ar_index=\"and thrice twice opposite after around right walk run left look jump\".split(\" \")\n",
    "cols = \"IRIGHT IWALK IRUN ILEFT ILOOK IJUMP\".split(\" \")\n",
    "f, axes = plt.subplots(2, 2, figsize=(7, 7), sharey=True, sharex=True)\n",
    "sns.despine(left=True)\n",
    "pmi_ar, _ = get_heatmap_from_lexicon3(get_lexicon(jump_results, model='pmi'), file=\"figures/jump_pmi.pdf\", title='PMI', ax=axes[0,1])\n",
    "pmi_ar = pmi_ar.loc[ar_index][cols]\n",
    "get_heatmap_from_lexicon3(get_lexicon(jump_results, model='simple'), file=\"figures/jump_simple.pdf\", title=\"Simple\", reindex_df=pmi_ar, ax=axes[1,1])\n",
    "get_heatmap_from_lexicon3(get_lexicon(jump_results, model='intersect'), file=\"figures/jump_ibm2.pdf\", title=\"IBM Model-2\", reindex_df=pmi_ar, ax=axes[0,0])\n",
    "get_heatmap_from_lexicon3(get_lexicon(jump_results, model='goodman'), file=\"figures/jump_goodman.pdf\", title='Bayesian', reindex_df=pmi_ar, ax=axes[1,0])\n",
    "f.savefig(\"figures/jump.pdf\", dpi=300)"
   ]
  },
  {
   "cell_type": "code",
   "execution_count": 94,
   "metadata": {},
   "outputs": [
    {
     "data": {
      "image/png": "[encoded data removed]",
      "text/plain": [
       "<Figure size 2100x2100 with 4 Axes>"
      ]
     },
     "metadata": {},
     "output_type": "display_data"
    }
   ],
   "source": [
    "cogs_input_words  = ['noticed', 'baked', 'shattered', 'blessed','hoped']\n",
    "cogs_output_words = [\"notice\", \"bake\", \"shatter\", \"bless\", \"hope\"]\n",
    "f, axes = plt.subplots(2, 2, figsize=(7, 7), sharey=True, sharex=True)\n",
    "sns.despine(left=True)\n",
    "simple_ar,_ = get_heatmap_from_lexicon3(get_lexicon(cogs_results, model='simple'), indices=cogs_input_words, columns=cogs_output_words, file=\"figures/cogs_simple.pdf\", title=\"Simple\",  ax=axes[1,1])\n",
    "simple_ar = simple_ar.loc[cogs_input_words][cogs_output_words]\n",
    "get_heatmap_from_lexicon3(get_lexicon(cogs_results, model='pmi'), file=\"figures/cogs_pmi.pdf\", title='PMI', ax=axes[0,1], reindex_df=simple_ar)\n",
    "get_heatmap_from_lexicon3(get_lexicon(cogs_results, model='intersect'), file=\"figures/cogs_ibm2.pdf\", title=\"IBM Model-2\", reindex_df=simple_ar, ax=axes[0,0])\n",
    "get_heatmap_from_lexicon3(get_lexicon(cogs_results, model='goodman'),  file=\"figures/cogs_goodman.pdf\", title='Bayesian', reindex_df=simple_ar, ax=axes[1,0])\n",
    "f.savefig(\"figures/cogs.pdf\", dpi=300)"
   ]
  },
  {
   "cell_type": "markdown",
   "metadata": {},
   "source": [
    "# ABLATION II - Cogs Category Results"
   ]
  },
  {
   "cell_type": "code",
   "execution_count": 95,
   "metadata": {},
   "outputs": [],
   "source": [
    "cogs_cat_results = {}\n",
    "for m in ['lstm', 'lstmcopy', 'simple']:\n",
    "    cogs_cat_results[m] = {}\n",
    "    for cat in set(cogsinfo.data['gen_cats']):\n",
    "        cogs_cat_results[m][cat] =  get_accuracy([result.results for result in cogs_results[m]],category=cat)\n",
    "    cogs_cat_results[m]['all'] =  get_accuracy([result.results for result in cogs_results[m]])"
   ]
  },
  {
   "cell_type": "code",
   "execution_count": 96,
   "metadata": {},
   "outputs": [
    {
     "data": {
      "text/plain": [
       "{'lstm': {'pp_dative_to_do_dative': 0.9654999999999999+/-0.0189802528961023,\n",
       "  'only_seen_as_unacc_subj_as_obj_omitted_transitive_subj': 0.7748999999999999+/-0.18549741238087392,\n",
       "  'obj_omitted_transitive_to_transitive': 0.43450000000000005+/-0.35146614346192717,\n",
       "  'pp_recursion': 0.041499999999999995+/-0.012483989746871791,\n",
       "  'obj_to_subj_common': 0.9181999999999999+/-0.21124099980827588,\n",
       "  'obj_to_subj_proper': 0.5479999999999999+/-0.44094625522845754,\n",
       "  'passive_to_active': 0.2273+/-0.20590582798939905,\n",
       "  'only_seen_as_unacc_subj_as_unerg_subj': 0.7723+/-0.18591022026774107,\n",
       "  'do_dative_to_pp_dative': 0.9841+/-0.01510926867852976,\n",
       "  'cp_recursion': 0.0+/-0,\n",
       "  'only_seen_as_transitive_subj_as_unacc_subj': 0.9224+/-0.11380263617333299,\n",
       "  'subj_to_obj_common': 0.7792+/-0.16155358244248252,\n",
       "  'prim_to_subj_common': 0.5506+/-0.37906310820231504,\n",
       "  'unacc_to_transitive': 0.1606+/-0.28371401093354554,\n",
       "  'active_to_passive': 0.9673999999999999+/-0.04584364732435672,\n",
       "  'obj_pp_to_subj_pp': 0.0+/-0,\n",
       "  'prim_to_inf_arg': 0.32949999999999996+/-0.3263872699723444,\n",
       "  'prim_to_obj_proper': 0.23490000000000003+/-0.2060710799699948,\n",
       "  'prim_to_subj_proper': 0.1935+/-0.37532499250649426,\n",
       "  'prim_to_obj_common': 0.4415+/-0.28308205524193863,\n",
       "  'subj_to_obj_proper': 0.4549+/-0.1632791780969025,\n",
       "  'all': 0.5095619047619048+/-0.0549003583085177},\n",
       " 'lstmcopy': {'pp_dative_to_do_dative': 0.6252+/-0.3258275003740476,\n",
       "  'only_seen_as_unacc_subj_as_obj_omitted_transitive_subj': 0.9855+/-0.017557049866079453,\n",
       "  'obj_omitted_transitive_to_transitive': 0.0256+/-0.0462,\n",
       "  'pp_recursion': 0.0018000000000000002+/-0.002785677655436824,\n",
       "  'obj_to_subj_common': 0.9959+/-0.0031448370387032808,\n",
       "  'obj_to_subj_proper': 0.9947000000000001+/-0.0017349351572897487,\n",
       "  'passive_to_active': 0.4664+/-0.2767609799086569,\n",
       "  'only_seen_as_unacc_subj_as_unerg_subj': 0.9902+/-0.0078076885183772605,\n",
       "  'do_dative_to_pp_dative': 0.8776999999999999+/-0.16998238143995983,\n",
       "  'cp_recursion': 0.0+/-0,\n",
       "  'only_seen_as_transitive_subj_as_unacc_subj': 0.9941999999999999+/-0.005741080037762934,\n",
       "  'subj_to_obj_common': 0.9907999999999999+/-0.004331281565541547,\n",
       "  'prim_to_subj_common': 0.9955999999999999+/-0.0019595917942265445,\n",
       "  'unacc_to_transitive': 0.0005+/-0.0015000000000000002,\n",
       "  'active_to_passive': 0.5574999999999999+/-0.3997602406443142,\n",
       "  'obj_pp_to_subj_pp': 0.0+/-0,\n",
       "  'prim_to_inf_arg': 0.9996+/-0.000489897948556636,\n",
       "  'prim_to_obj_proper': 0.681+/-0.040644802865803145,\n",
       "  'prim_to_subj_proper': 0.998+/-0.001483239697419134,\n",
       "  'prim_to_obj_common': 0.9908999999999999+/-0.004437341546466762,\n",
       "  'subj_to_obj_proper': 0.6615+/-0.026960155785900053,\n",
       "  'all': 0.658695238095238+/-0.030558469290058916},\n",
       " 'simple': {'pp_dative_to_do_dative': 0.9905999999999999+/-0.007472616676907768,\n",
       "  'only_seen_as_unacc_subj_as_obj_omitted_transitive_subj': 0.9958+/-0.00823164625090268,\n",
       "  'obj_omitted_transitive_to_transitive': 0.9988999999999999+/-0.001044030650891056,\n",
       "  'pp_recursion': 0.0131+/-0.01628158468945821,\n",
       "  'obj_to_subj_common': 0.9968999999999999+/-0.0015779733838059513,\n",
       "  'obj_to_subj_proper': 0.9964999999999999+/-0.003201562118716427,\n",
       "  'passive_to_active': 0.9987+/-0.0011874342087037928,\n",
       "  'only_seen_as_unacc_subj_as_unerg_subj': 0.9958+/-0.008084553172563102,\n",
       "  'do_dative_to_pp_dative': 0.9947999999999999+/-0.003187475490101848,\n",
       "  'cp_recursion': 0.00030000000000000003+/-0.0006403124237432849,\n",
       "  'only_seen_as_transitive_subj_as_unacc_subj': 0.9992000000000001+/-0.0018330302779823377,\n",
       "  'subj_to_obj_common': 0.9930999999999999+/-0.002879236009777596,\n",
       "  'prim_to_subj_common': 0.9968999999999999+/-0.0013000000000000012,\n",
       "  'unacc_to_transitive': 0.999+/-0.0010954451150103333,\n",
       "  'active_to_passive': 0.9996+/-0.0006633249580710806,\n",
       "  'obj_pp_to_subj_pp': 0.0+/-0,\n",
       "  'prim_to_inf_arg': 0.9926999999999999+/-0.01723977958095754,\n",
       "  'prim_to_obj_proper': 0.6566000000000001+/-0.07767264640785712,\n",
       "  'prim_to_subj_proper': 0.9974000000000001+/-0.00521919534027996,\n",
       "  'prim_to_obj_common': 0.9933+/-0.0025709920264364904,\n",
       "  'subj_to_obj_proper': 0.6378999999999999+/-0.05931348919090834,\n",
       "  'all': 0.8212904761904761+/-0.00610904129037678}}"
      ]
     },
     "execution_count": 96,
     "metadata": {},
     "output_type": "execute_result"
    }
   ],
   "source": [
    "cogs_cat_results"
   ]
  },
  {
   "cell_type": "code",
   "execution_count": 97,
   "metadata": {},
   "outputs": [],
   "source": [
    "cogs_cat_table = pd.DataFrame(cogs_cat_results, columns=['lstm','lstmcopy','simple'], index=list(set(cogsinfo.data['gen_cats'])))"
   ]
  },
  {
   "cell_type": "code",
   "execution_count": 98,
   "metadata": {},
   "outputs": [
    {
     "data": {
      "text/html": [
       "<style  type=\"text/css\" >\n",
       "</style><table id=\"T_5defe2aa_c7d4_11eb_ae0f_27d521b3e9c0\" ><thead>    <tr>        <th class=\"blank level0\" ></th>        <th class=\"col_heading level0 col0\" >lstm</th>        <th class=\"col_heading level0 col1\" >lstmcopy</th>        <th class=\"col_heading level0 col2\" >simple</th>    </tr></thead><tbody>\n",
       "                <tr>\n",
       "                        <th id=\"T_5defe2aa_c7d4_11eb_ae0f_27d521b3e9c0level0_row0\" class=\"row_heading level0 row0\" >pp_dative_to_do_dative</th>\n",
       "                        <td id=\"T_5defe2aa_c7d4_11eb_ae0f_27d521b3e9c0row0_col0\" class=\"data row0 col0\" >& 0.97 \\pm 0.02</td>\n",
       "                        <td id=\"T_5defe2aa_c7d4_11eb_ae0f_27d521b3e9c0row0_col1\" class=\"data row0 col1\" >& 0.63 \\pm 0.33</td>\n",
       "                        <td id=\"T_5defe2aa_c7d4_11eb_ae0f_27d521b3e9c0row0_col2\" class=\"data row0 col2\" >& 0.99 \\pm 0.01</td>\n",
       "            </tr>\n",
       "            <tr>\n",
       "                        <th id=\"T_5defe2aa_c7d4_11eb_ae0f_27d521b3e9c0level0_row1\" class=\"row_heading level0 row1\" >only_seen_as_unacc_subj_as_obj_omitted_transitive_subj</th>\n",
       "                        <td id=\"T_5defe2aa_c7d4_11eb_ae0f_27d521b3e9c0row1_col0\" class=\"data row1 col0\" >& 0.77 \\pm 0.19</td>\n",
       "                        <td id=\"T_5defe2aa_c7d4_11eb_ae0f_27d521b3e9c0row1_col1\" class=\"data row1 col1\" >& 0.99 \\pm 0.02</td>\n",
       "                        <td id=\"T_5defe2aa_c7d4_11eb_ae0f_27d521b3e9c0row1_col2\" class=\"data row1 col2\" >& 1.0 \\pm 0.0</td>\n",
       "            </tr>\n",
       "            <tr>\n",
       "                        <th id=\"T_5defe2aa_c7d4_11eb_ae0f_27d521b3e9c0level0_row2\" class=\"row_heading level0 row2\" >obj_omitted_transitive_to_transitive</th>\n",
       "                        <td id=\"T_5defe2aa_c7d4_11eb_ae0f_27d521b3e9c0row2_col0\" class=\"data row2 col0\" >& 0.43 \\pm 0.35</td>\n",
       "                        <td id=\"T_5defe2aa_c7d4_11eb_ae0f_27d521b3e9c0row2_col1\" class=\"data row2 col1\" >& 0.026 \\pm 0.046</td>\n",
       "                        <td id=\"T_5defe2aa_c7d4_11eb_ae0f_27d521b3e9c0row2_col2\" class=\"data row2 col2\" >& 1.0 \\pm 0.0</td>\n",
       "            </tr>\n",
       "            <tr>\n",
       "                        <th id=\"T_5defe2aa_c7d4_11eb_ae0f_27d521b3e9c0level0_row3\" class=\"row_heading level0 row3\" >pp_recursion</th>\n",
       "                        <td id=\"T_5defe2aa_c7d4_11eb_ae0f_27d521b3e9c0row3_col0\" class=\"data row3 col0\" >& 0.041 \\pm 0.012</td>\n",
       "                        <td id=\"T_5defe2aa_c7d4_11eb_ae0f_27d521b3e9c0row3_col1\" class=\"data row3 col1\" >& 0.0018 \\pm 0.0028</td>\n",
       "                        <td id=\"T_5defe2aa_c7d4_11eb_ae0f_27d521b3e9c0row3_col2\" class=\"data row3 col2\" >& 0.013 \\pm 0.016</td>\n",
       "            </tr>\n",
       "            <tr>\n",
       "                        <th id=\"T_5defe2aa_c7d4_11eb_ae0f_27d521b3e9c0level0_row4\" class=\"row_heading level0 row4\" >obj_to_subj_common</th>\n",
       "                        <td id=\"T_5defe2aa_c7d4_11eb_ae0f_27d521b3e9c0row4_col0\" class=\"data row4 col0\" >& 0.92 \\pm 0.21</td>\n",
       "                        <td id=\"T_5defe2aa_c7d4_11eb_ae0f_27d521b3e9c0row4_col1\" class=\"data row4 col1\" >& 1.0 \\pm 0.0</td>\n",
       "                        <td id=\"T_5defe2aa_c7d4_11eb_ae0f_27d521b3e9c0row4_col2\" class=\"data row4 col2\" >& 1.0 \\pm 0.0</td>\n",
       "            </tr>\n",
       "            <tr>\n",
       "                        <th id=\"T_5defe2aa_c7d4_11eb_ae0f_27d521b3e9c0level0_row5\" class=\"row_heading level0 row5\" >obj_to_subj_proper</th>\n",
       "                        <td id=\"T_5defe2aa_c7d4_11eb_ae0f_27d521b3e9c0row5_col0\" class=\"data row5 col0\" >& 0.55 \\pm 0.44</td>\n",
       "                        <td id=\"T_5defe2aa_c7d4_11eb_ae0f_27d521b3e9c0row5_col1\" class=\"data row5 col1\" >& 0.99 \\pm 0.00</td>\n",
       "                        <td id=\"T_5defe2aa_c7d4_11eb_ae0f_27d521b3e9c0row5_col2\" class=\"data row5 col2\" >& 1.0 \\pm 0.0</td>\n",
       "            </tr>\n",
       "            <tr>\n",
       "                        <th id=\"T_5defe2aa_c7d4_11eb_ae0f_27d521b3e9c0level0_row6\" class=\"row_heading level0 row6\" >passive_to_active</th>\n",
       "                        <td id=\"T_5defe2aa_c7d4_11eb_ae0f_27d521b3e9c0row6_col0\" class=\"data row6 col0\" >& 0.23 \\pm 0.21</td>\n",
       "                        <td id=\"T_5defe2aa_c7d4_11eb_ae0f_27d521b3e9c0row6_col1\" class=\"data row6 col1\" >& 0.47 \\pm 0.28</td>\n",
       "                        <td id=\"T_5defe2aa_c7d4_11eb_ae0f_27d521b3e9c0row6_col2\" class=\"data row6 col2\" >& 1.0 \\pm 0.0</td>\n",
       "            </tr>\n",
       "            <tr>\n",
       "                        <th id=\"T_5defe2aa_c7d4_11eb_ae0f_27d521b3e9c0level0_row7\" class=\"row_heading level0 row7\" >only_seen_as_unacc_subj_as_unerg_subj</th>\n",
       "                        <td id=\"T_5defe2aa_c7d4_11eb_ae0f_27d521b3e9c0row7_col0\" class=\"data row7 col0\" >& 0.77 \\pm 0.19</td>\n",
       "                        <td id=\"T_5defe2aa_c7d4_11eb_ae0f_27d521b3e9c0row7_col1\" class=\"data row7 col1\" >& 0.99 \\pm 0.01</td>\n",
       "                        <td id=\"T_5defe2aa_c7d4_11eb_ae0f_27d521b3e9c0row7_col2\" class=\"data row7 col2\" >& 1.0 \\pm 0.0</td>\n",
       "            </tr>\n",
       "            <tr>\n",
       "                        <th id=\"T_5defe2aa_c7d4_11eb_ae0f_27d521b3e9c0level0_row8\" class=\"row_heading level0 row8\" >do_dative_to_pp_dative</th>\n",
       "                        <td id=\"T_5defe2aa_c7d4_11eb_ae0f_27d521b3e9c0row8_col0\" class=\"data row8 col0\" >& 0.98 \\pm 0.02</td>\n",
       "                        <td id=\"T_5defe2aa_c7d4_11eb_ae0f_27d521b3e9c0row8_col1\" class=\"data row8 col1\" >& 0.88 \\pm 0.17</td>\n",
       "                        <td id=\"T_5defe2aa_c7d4_11eb_ae0f_27d521b3e9c0row8_col2\" class=\"data row8 col2\" >& 0.99 \\pm 0.00</td>\n",
       "            </tr>\n",
       "            <tr>\n",
       "                        <th id=\"T_5defe2aa_c7d4_11eb_ae0f_27d521b3e9c0level0_row9\" class=\"row_heading level0 row9\" >cp_recursion</th>\n",
       "                        <td id=\"T_5defe2aa_c7d4_11eb_ae0f_27d521b3e9c0row9_col0\" class=\"data row9 col0\" >& 0.0 \\pm 0</td>\n",
       "                        <td id=\"T_5defe2aa_c7d4_11eb_ae0f_27d521b3e9c0row9_col1\" class=\"data row9 col1\" >& 0.0 \\pm 0</td>\n",
       "                        <td id=\"T_5defe2aa_c7d4_11eb_ae0f_27d521b3e9c0row9_col2\" class=\"data row9 col2\" >& 0.00030 \\pm 0.00064</td>\n",
       "            </tr>\n",
       "            <tr>\n",
       "                        <th id=\"T_5defe2aa_c7d4_11eb_ae0f_27d521b3e9c0level0_row10\" class=\"row_heading level0 row10\" >only_seen_as_transitive_subj_as_unacc_subj</th>\n",
       "                        <td id=\"T_5defe2aa_c7d4_11eb_ae0f_27d521b3e9c0row10_col0\" class=\"data row10 col0\" >& 0.92 \\pm 0.11</td>\n",
       "                        <td id=\"T_5defe2aa_c7d4_11eb_ae0f_27d521b3e9c0row10_col1\" class=\"data row10 col1\" >& 0.99 \\pm 0.01</td>\n",
       "                        <td id=\"T_5defe2aa_c7d4_11eb_ae0f_27d521b3e9c0row10_col2\" class=\"data row10 col2\" >& 1.0 \\pm 0.0</td>\n",
       "            </tr>\n",
       "            <tr>\n",
       "                        <th id=\"T_5defe2aa_c7d4_11eb_ae0f_27d521b3e9c0level0_row11\" class=\"row_heading level0 row11\" >subj_to_obj_common</th>\n",
       "                        <td id=\"T_5defe2aa_c7d4_11eb_ae0f_27d521b3e9c0row11_col0\" class=\"data row11 col0\" >& 0.78 \\pm 0.16</td>\n",
       "                        <td id=\"T_5defe2aa_c7d4_11eb_ae0f_27d521b3e9c0row11_col1\" class=\"data row11 col1\" >& 0.99 \\pm 0.00</td>\n",
       "                        <td id=\"T_5defe2aa_c7d4_11eb_ae0f_27d521b3e9c0row11_col2\" class=\"data row11 col2\" >& 0.99 \\pm 0.00</td>\n",
       "            </tr>\n",
       "            <tr>\n",
       "                        <th id=\"T_5defe2aa_c7d4_11eb_ae0f_27d521b3e9c0level0_row12\" class=\"row_heading level0 row12\" >prim_to_subj_common</th>\n",
       "                        <td id=\"T_5defe2aa_c7d4_11eb_ae0f_27d521b3e9c0row12_col0\" class=\"data row12 col0\" >& 0.55 \\pm 0.38</td>\n",
       "                        <td id=\"T_5defe2aa_c7d4_11eb_ae0f_27d521b3e9c0row12_col1\" class=\"data row12 col1\" >& 1.0 \\pm 0.0</td>\n",
       "                        <td id=\"T_5defe2aa_c7d4_11eb_ae0f_27d521b3e9c0row12_col2\" class=\"data row12 col2\" >& 1.0 \\pm 0.0</td>\n",
       "            </tr>\n",
       "            <tr>\n",
       "                        <th id=\"T_5defe2aa_c7d4_11eb_ae0f_27d521b3e9c0level0_row13\" class=\"row_heading level0 row13\" >unacc_to_transitive</th>\n",
       "                        <td id=\"T_5defe2aa_c7d4_11eb_ae0f_27d521b3e9c0row13_col0\" class=\"data row13 col0\" >& 0.16 \\pm 0.28</td>\n",
       "                        <td id=\"T_5defe2aa_c7d4_11eb_ae0f_27d521b3e9c0row13_col1\" class=\"data row13 col1\" >& 0.0005 \\pm 0.0015</td>\n",
       "                        <td id=\"T_5defe2aa_c7d4_11eb_ae0f_27d521b3e9c0row13_col2\" class=\"data row13 col2\" >& 1.0 \\pm 0.0</td>\n",
       "            </tr>\n",
       "            <tr>\n",
       "                        <th id=\"T_5defe2aa_c7d4_11eb_ae0f_27d521b3e9c0level0_row14\" class=\"row_heading level0 row14\" >active_to_passive</th>\n",
       "                        <td id=\"T_5defe2aa_c7d4_11eb_ae0f_27d521b3e9c0row14_col0\" class=\"data row14 col0\" >& 0.97 \\pm 0.05</td>\n",
       "                        <td id=\"T_5defe2aa_c7d4_11eb_ae0f_27d521b3e9c0row14_col1\" class=\"data row14 col1\" >& 0.56 \\pm 0.40</td>\n",
       "                        <td id=\"T_5defe2aa_c7d4_11eb_ae0f_27d521b3e9c0row14_col2\" class=\"data row14 col2\" >& 1.0 \\pm 0.0</td>\n",
       "            </tr>\n",
       "            <tr>\n",
       "                        <th id=\"T_5defe2aa_c7d4_11eb_ae0f_27d521b3e9c0level0_row15\" class=\"row_heading level0 row15\" >obj_pp_to_subj_pp</th>\n",
       "                        <td id=\"T_5defe2aa_c7d4_11eb_ae0f_27d521b3e9c0row15_col0\" class=\"data row15 col0\" >& 0.0 \\pm 0</td>\n",
       "                        <td id=\"T_5defe2aa_c7d4_11eb_ae0f_27d521b3e9c0row15_col1\" class=\"data row15 col1\" >& 0.0 \\pm 0</td>\n",
       "                        <td id=\"T_5defe2aa_c7d4_11eb_ae0f_27d521b3e9c0row15_col2\" class=\"data row15 col2\" >& 0.0 \\pm 0</td>\n",
       "            </tr>\n",
       "            <tr>\n",
       "                        <th id=\"T_5defe2aa_c7d4_11eb_ae0f_27d521b3e9c0level0_row16\" class=\"row_heading level0 row16\" >prim_to_inf_arg</th>\n",
       "                        <td id=\"T_5defe2aa_c7d4_11eb_ae0f_27d521b3e9c0row16_col0\" class=\"data row16 col0\" >& 0.33 \\pm 0.33</td>\n",
       "                        <td id=\"T_5defe2aa_c7d4_11eb_ae0f_27d521b3e9c0row16_col1\" class=\"data row16 col1\" >& 1.0 \\pm 0.0</td>\n",
       "                        <td id=\"T_5defe2aa_c7d4_11eb_ae0f_27d521b3e9c0row16_col2\" class=\"data row16 col2\" >& 0.99 \\pm 0.02</td>\n",
       "            </tr>\n",
       "            <tr>\n",
       "                        <th id=\"T_5defe2aa_c7d4_11eb_ae0f_27d521b3e9c0level0_row17\" class=\"row_heading level0 row17\" >prim_to_obj_proper</th>\n",
       "                        <td id=\"T_5defe2aa_c7d4_11eb_ae0f_27d521b3e9c0row17_col0\" class=\"data row17 col0\" >& 0.23 \\pm 0.21</td>\n",
       "                        <td id=\"T_5defe2aa_c7d4_11eb_ae0f_27d521b3e9c0row17_col1\" class=\"data row17 col1\" >& 0.68 \\pm 0.04</td>\n",
       "                        <td id=\"T_5defe2aa_c7d4_11eb_ae0f_27d521b3e9c0row17_col2\" class=\"data row17 col2\" >& 0.66 \\pm 0.08</td>\n",
       "            </tr>\n",
       "            <tr>\n",
       "                        <th id=\"T_5defe2aa_c7d4_11eb_ae0f_27d521b3e9c0level0_row18\" class=\"row_heading level0 row18\" >prim_to_subj_proper</th>\n",
       "                        <td id=\"T_5defe2aa_c7d4_11eb_ae0f_27d521b3e9c0row18_col0\" class=\"data row18 col0\" >& 0.19 \\pm 0.38</td>\n",
       "                        <td id=\"T_5defe2aa_c7d4_11eb_ae0f_27d521b3e9c0row18_col1\" class=\"data row18 col1\" >& 1.0 \\pm 0.0</td>\n",
       "                        <td id=\"T_5defe2aa_c7d4_11eb_ae0f_27d521b3e9c0row18_col2\" class=\"data row18 col2\" >& 1.0 \\pm 0.0</td>\n",
       "            </tr>\n",
       "            <tr>\n",
       "                        <th id=\"T_5defe2aa_c7d4_11eb_ae0f_27d521b3e9c0level0_row19\" class=\"row_heading level0 row19\" >prim_to_obj_common</th>\n",
       "                        <td id=\"T_5defe2aa_c7d4_11eb_ae0f_27d521b3e9c0row19_col0\" class=\"data row19 col0\" >& 0.44 \\pm 0.28</td>\n",
       "                        <td id=\"T_5defe2aa_c7d4_11eb_ae0f_27d521b3e9c0row19_col1\" class=\"data row19 col1\" >& 0.99 \\pm 0.00</td>\n",
       "                        <td id=\"T_5defe2aa_c7d4_11eb_ae0f_27d521b3e9c0row19_col2\" class=\"data row19 col2\" >& 0.99 \\pm 0.00</td>\n",
       "            </tr>\n",
       "            <tr>\n",
       "                        <th id=\"T_5defe2aa_c7d4_11eb_ae0f_27d521b3e9c0level0_row20\" class=\"row_heading level0 row20\" >subj_to_obj_proper</th>\n",
       "                        <td id=\"T_5defe2aa_c7d4_11eb_ae0f_27d521b3e9c0row20_col0\" class=\"data row20 col0\" >& 0.45 \\pm 0.16</td>\n",
       "                        <td id=\"T_5defe2aa_c7d4_11eb_ae0f_27d521b3e9c0row20_col1\" class=\"data row20 col1\" >& 0.66 \\pm 0.03</td>\n",
       "                        <td id=\"T_5defe2aa_c7d4_11eb_ae0f_27d521b3e9c0row20_col2\" class=\"data row20 col2\" >& 0.64 \\pm 0.06</td>\n",
       "            </tr>\n",
       "    </tbody></table>"
      ],
      "text/plain": [
       "<pandas.io.formats.style.Styler at 0x1487f455fc88>"
      ]
     },
     "execution_count": 98,
     "metadata": {},
     "output_type": "execute_result"
    }
   ],
   "source": [
    "cogs_cat_table.style.format(u'& {:.2L}')"
   ]
  },
  {
   "cell_type": "markdown",
   "metadata": {},
   "source": [
    "# ABLATION  - Soft / Learned / Random"
   ]
  },
  {
   "cell_type": "code",
   "execution_count": 99,
   "metadata": {},
   "outputs": [],
   "source": [
    "def cogs_ablation(datainfo=None):    \n",
    "    exp_folders = {\"simple\":cogs_home + \"simple/\",\n",
    "                   \"soft\":cogs_home + \"soft_temp_0.2_simple/\",\n",
    "                   \"learned\":cogs_home + \"learn_temp_0.2_simple/\",\n",
    "                   \"uniform\":cogs_home + \"learn_uniform_temp_0.2/\",\n",
    "                   \"random\":cogs_home + \"learn_random_temp_0.2/\" }\n",
    "    return read_all_results(exp_folders,\"cogs\", datainfo=datainfo, read_category=True)"
   ]
  },
  {
   "cell_type": "code",
   "execution_count": 100,
   "metadata": {},
   "outputs": [],
   "source": [
    "cogs_ablation_significance = {}"
   ]
  },
  {
   "cell_type": "code",
   "execution_count": null,
   "metadata": {},
   "outputs": [],
   "source": [
    "cogs_ablation_results = cogs_ablation(cogsinfo)"
   ]
  },
  {
   "cell_type": "code",
   "execution_count": null,
   "metadata": {},
   "outputs": [],
   "source": [
    "# translate_ablation_results = translate_ablation(translateinfo)"
   ]
  },
  {
   "cell_type": "code",
   "execution_count": null,
   "metadata": {},
   "outputs": [],
   "source": [
    "ablation_scores = {}\n",
    "for (exp_name, results) in cogs_ablation_results.items():\n",
    "    ablation_scores[exp_name] = {\"acc\":get_accuracy([result.results for result in results])}"
   ]
  },
  {
   "cell_type": "code",
   "execution_count": null,
   "metadata": {},
   "outputs": [],
   "source": [
    "cogs_ablation_results.pop('random')\n",
    "update_significance(cogs_ablation_results,cogs_ablation_significance)"
   ]
  },
  {
   "cell_type": "code",
   "execution_count": null,
   "metadata": {},
   "outputs": [],
   "source": [
    "pd.DataFrame(cogs_ablation_significance)"
   ]
  },
  {
   "cell_type": "code",
   "execution_count": null,
   "metadata": {},
   "outputs": [],
   "source": [
    "# ablation_scores2 = {}\n",
    "# for (exp_name, results) in translate_ablation_results.items():\n",
    "#     ablation_scores2[exp_name] = {\"bleu\":get_bleu([result.results for result in results])}"
   ]
  },
  {
   "cell_type": "code",
   "execution_count": null,
   "metadata": {},
   "outputs": [],
   "source": [
    "# ablation_scores"
   ]
  },
  {
   "cell_type": "code",
   "execution_count": null,
   "metadata": {},
   "outputs": [],
   "source": [
    "# ablation_scores2"
   ]
  },
  {
   "cell_type": "code",
   "execution_count": null,
   "metadata": {},
   "outputs": [],
   "source": [
    "cogs_ablation_table = pd.DataFrame(ablation_scores, index=[\"acc\"],columns=list(ablation_scores.keys()))"
   ]
  },
  {
   "cell_type": "code",
   "execution_count": null,
   "metadata": {},
   "outputs": [],
   "source": [
    "cogs_ablation_table.transpose().style.format(u'& {:.4P}')"
   ]
  },
  {
   "cell_type": "code",
   "execution_count": null,
   "metadata": {},
   "outputs": [],
   "source": [
    "# translate_ablation_table = pd.DataFrame(ablation_scores2, index=[\"bleu\"],columns=list(ablation_scores2.keys()))"
   ]
  },
  {
   "cell_type": "code",
   "execution_count": null,
   "metadata": {},
   "outputs": [],
   "source": [
    "# translate_ablation_table.transpose().style.format(u'& {:.2uP}')"
   ]
  },
  {
   "cell_type": "code",
   "execution_count": null,
   "metadata": {},
   "outputs": [],
   "source": [
    "for m in ['soft', 'learned', 'uniform']:\n",
    "    cogs_cat_results[m] = {}\n",
    "    for cat in set(cogsinfo.data['gen_cats']):\n",
    "        cogs_cat_results[m][cat] =  get_accuracy([result.results for result in cogs_ablation_results[m]],category=cat)\n",
    "    cogs_cat_results[m]['all'] =  get_accuracy([result.results for result in cogs_ablation_results[m]])"
   ]
  },
  {
   "cell_type": "code",
   "execution_count": null,
   "metadata": {},
   "outputs": [],
   "source": [
    "selective_index = \"\"\"prim_to_inf_arg\n",
    "prim_to_subj_proper\n",
    "active_to_passive\n",
    "obj_pp_to_subj_pp\n",
    "passive_to_active\n",
    "pp_recursion\n",
    "obj_omitted_transitive_to_transitive\n",
    "prim_to_obj_proper\n",
    "unacc_to_transitive\n",
    "obj_to_subj_proper\n",
    "prim_to_obj_common\n",
    "subj_to_obj_common\n",
    "cp_recursion\n",
    "pp_dative_to_do_dative\n",
    "prim_to_subj_common\n",
    "all\"\"\".split(\"\\n\")"
   ]
  },
  {
   "cell_type": "code",
   "execution_count": null,
   "metadata": {},
   "outputs": [],
   "source": [
    "selective_index = \"\"\"prim_to_\n",
    "active_to_passive\n",
    "obj_pp_to_subj_pp\n",
    "passive_to_active\n",
    "p_recursion\n",
    "unacc_to_transitive\n",
    "obj_to_subj_proper\n",
    "subj_to_obj_common\n",
    "dative\n",
    "all\"\"\".split(\"\\n\")"
   ]
  },
  {
   "cell_type": "code",
   "execution_count": null,
   "metadata": {},
   "outputs": [],
   "source": [
    "for m in ['lstm', 'lstmcopy', 'simple']:\n",
    "    cogs_cat_results[m] = {}\n",
    "    for cat in selective_index:\n",
    "        print(cat)\n",
    "        cogs_cat_results[m][cat] =  get_accuracy([result.results for result in cogs_results[m]],category=cat)\n",
    "    cogs_cat_results[m]['all'] =  get_accuracy([result.results for result in cogs_results[m]])"
   ]
  },
  {
   "cell_type": "code",
   "execution_count": null,
   "metadata": {},
   "outputs": [],
   "source": [
    "#cogs_cat_table2 = pd.DataFrame(cogs_cat_results, columns=['lstm','lstmcopy','uniform','simple', 'soft', 'learned'], index=selective_index)\n",
    "cogs_cat_table2 = pd.DataFrame(cogs_cat_results, columns=['lstm','lstmcopy','simple'], index=selective_index)"
   ]
  },
  {
   "cell_type": "code",
   "execution_count": null,
   "metadata": {},
   "outputs": [],
   "source": [
    "cogs_cat_table2"
   ]
  },
  {
   "cell_type": "code",
   "execution_count": null,
   "metadata": {},
   "outputs": [],
   "source": [
    "(cogs_cat_table2*8).transpose().style.format(u'\\mybar{{ {:.2ufP} }}')"
   ]
  },
  {
   "cell_type": "code",
   "execution_count": null,
   "metadata": {},
   "outputs": [],
   "source": [
    "print((cogs_cat_table2*8).to_latex(formatters=[u'\\mybar{{ {:.2ufP} }}'.format]*3, escape=False).replace(\"±\",\"}{\"))"
   ]
  },
  {
   "cell_type": "markdown",
   "metadata": {},
   "source": [
    "## Colors Detailed Results"
   ]
  },
  {
   "cell_type": "code",
   "execution_count": null,
   "metadata": {},
   "outputs": [],
   "source": [
    "def sort_inputs(results):\n",
    "    return sorted(results, key=lambda k: k['input'])"
   ]
  },
  {
   "cell_type": "code",
   "execution_count": null,
   "metadata": {},
   "outputs": [],
   "source": [
    "colors_details = {\"examples\":[]}\n",
    "results = sort_inputs(colors_results[\"simple\"][0].results)\n",
    "for k in range(len(results)):\n",
    "    colors_details[\"examples\"].append(\" \".join(results[k]['input']))\n",
    "for model in (\"simple\",\"goodman\",\"geca\",\"synatt\"):\n",
    "    colors_details[model] = []\n",
    "    for k in range(len(colors_results[model][0].results)):\n",
    "        colors_details[model].append(mean_std([sort_inputs(colors_results[model][i].results)[k]['label'] for i in range(16)]))    "
   ]
  },
  {
   "cell_type": "code",
   "execution_count": null,
   "metadata": {},
   "outputs": [],
   "source": [
    "colors_details"
   ]
  },
  {
   "cell_type": "code",
   "execution_count": null,
   "metadata": {},
   "outputs": [],
   "source": [
    "print(pd.DataFrame(colors_details).to_latex(escape=False, index=False))"
   ]
  },
  {
   "cell_type": "code",
   "execution_count": null,
   "metadata": {},
   "outputs": [],
   "source": [
    "print(pd.DataFrame(colors_details).iloc[[7,9,2,0,4,3,8,1,5,6]].to_latex(escape=False, index=False))"
   ]
  },
  {
   "cell_type": "code",
   "execution_count": null,
   "metadata": {},
   "outputs": [],
   "source": [
    "# alignments = json.load(open(\"COGS/cogs/alignments/simple.align.v3.json\"))\n",
    "# fastalign = json.load(open(\"COGS/cogs/alignments/intersect.align.o.json\"))"
   ]
  },
  {
   "cell_type": "code",
   "execution_count": null,
   "metadata": {},
   "outputs": [],
   "source": [
    "# def visualize_model(mfile, viswords=None, n=None):\n",
    "#     model = torch.load(mfile, map_location=torch.device('cpu'))\n",
    "#     vocab_x = list(model.vocab_x._contents.keys())\n",
    "#     vocab_y = list(model.vocab_y._contents.keys())\n",
    "#     input_embeddings = model.pyx.encoder.embed.weight.detach().cpu().numpy()\n",
    "#     output_embeddings = model.pyx.decoder.embed.weight.detach().cpu().numpy()\n",
    "# #     print(input_embeddings.shape)\n",
    "# #     print(output_embeddings.shape)\n",
    "#     #Y = TSNE(n_components=2).fit_transform(input_embeddings)\n",
    "#     #print(Y.shape)\n",
    "#     if n is None:\n",
    "#         n = len(vocab_x) + 1\n",
    "#     Y = TSNE(n_components=2, random_state=0).fit_transform(input_embeddings[0:n])\n",
    "#     tsne_plot(Y, vocab_x[0:n], viswords)\n"
   ]
  },
  {
   "cell_type": "code",
   "execution_count": null,
   "metadata": {},
   "outputs": [],
   "source": [
    "# def tsne_plot(embeddings, words, viswords=None, filename=None):\n",
    "#     ax = plt.figure(figsize=(5, 3))\n",
    "#     if viswords is not None:\n",
    "#         indices = [words.index(w) for w in viswords]\n",
    "#     x = embeddings[indices, 0]\n",
    "#     y = embeddings[indices, 1]\n",
    "#     plt.scatter(x, y, s=2)\n",
    "#     for (i,ind) in enumerate(indices):\n",
    "#         if viswords is None or words[ind] in viswords:\n",
    "#             plt.annotate(words[ind], alpha=0.8, xy=(x[i], y[i]),  xytext=(1, 2), textcoords='offset points', size=6, label=None)\n",
    "#     plt.title(\"Embbeding Viz\")\n",
    "#     if filename:\n",
    "#         plt.savefig(filename, format='png', dpi=245, bbox_inches='tight')\n",
    "#     plt.show()\n"
   ]
  },
  {
   "cell_type": "code",
   "execution_count": null,
   "metadata": {},
   "outputs": [],
   "source": [
    "# around_right_mfile1 = \"exp/SCAN/aligner_jump_SCAN_nbatch_128_lr_1.0_warmup_4000_max_8000/cogs_baseline_seed_0_model.m\"\n",
    "# around_right_mfile2 = \"exp/SCAN/LSTM_jump_SCAN_nbatch_128_lr_1.0_warmup_4000_max_8000/cogs_baseline_seed_0_model.m\""
   ]
  },
  {
   "cell_type": "code",
   "execution_count": null,
   "metadata": {},
   "outputs": [],
   "source": [
    "# viswords = \"jump right left turn around walk look after twice thrice and\".split()"
   ]
  },
  {
   "cell_type": "code",
   "execution_count": null,
   "metadata": {},
   "outputs": [],
   "source": [
    "# visualize_model(around_right_mfile1, viswords)"
   ]
  },
  {
   "cell_type": "code",
   "execution_count": null,
   "metadata": {},
   "outputs": [],
   "source": [
    "# visualize_model(around_right_mfile2,viswords)"
   ]
  },
  {
   "cell_type": "code",
   "execution_count": null,
   "metadata": {},
   "outputs": [],
   "source": []
  },
  {
   "cell_type": "code",
   "execution_count": null,
   "metadata": {},
   "outputs": [],
   "source": []
  },
  {
   "cell_type": "code",
   "execution_count": null,
   "metadata": {},
   "outputs": [],
   "source": []
  }
 ],
 "metadata": {
  "kernelspec": {
   "display_name": "Python 3",
   "language": "python",
   "name": "python3"
  },
  "language_info": {
   "codemirror_mode": {
    "name": "ipython",
    "version": 3
   },
   "file_extension": ".py",
   "mimetype": "text/x-python",
   "name": "python",
   "nbconvert_exporter": "python",
   "pygments_lexer": "ipython3",
   "version": "3.7.3"
  }
 },
 "nbformat": 4,
 "nbformat_minor": 4
}
